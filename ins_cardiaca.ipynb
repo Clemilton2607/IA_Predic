{
  "nbformat": 4,
  "nbformat_minor": 0,
  "metadata": {
    "colab": {
      "provenance": [],
      "authorship_tag": "ABX9TyN4BvKPE0YqC06+JCMjie4g",
      "include_colab_link": true
    },
    "kernelspec": {
      "name": "python3",
      "display_name": "Python 3"
    },
    "language_info": {
      "name": "python"
    }
  },
  "cells": [
    {
      "cell_type": "markdown",
      "metadata": {
        "id": "view-in-github",
        "colab_type": "text"
      },
      "source": [
        "<a href=\"https://colab.research.google.com/github/Clemilton2607/IA_Predict/blob/main/ins_cardiaca.ipynb\" target=\"_parent\"><img src=\"https://colab.research.google.com/assets/colab-badge.svg\" alt=\"Open In Colab\"/></a>"
      ]
    },
    {
      "cell_type": "markdown",
      "source": [
        "Link do Dataset utilizado: https://www.kaggle.com/datasets/fedesoriano/heart-failure-prediction"
      ],
      "metadata": {
        "id": "s1k5btaoiDFi"
      }
    },
    {
      "cell_type": "markdown",
      "source": [
        "#Importações e atualizações "
      ],
      "metadata": {
        "id": "dNESORiOpSbi"
      }
    },
    {
      "cell_type": "code",
      "source": [
        "!pip -q install plotly --upgrade"
      ],
      "metadata": {
        "id": "zOzwSTEIpaHA",
        "colab": {
          "base_uri": "https://localhost:8080/"
        },
        "outputId": "925f47ac-5892-41d3-c185-41127bd08bfc"
      },
      "execution_count": null,
      "outputs": [
        {
          "output_type": "stream",
          "name": "stdout",
          "text": [
            "\u001b[?25l     \u001b[90m━━━━━━━━━━━━━━━━━━━━━━━━━━━━━━━━━━━━━━━━\u001b[0m \u001b[32m0.0/15.2 MB\u001b[0m \u001b[31m?\u001b[0m eta \u001b[36m-:--:--\u001b[0m\r\u001b[2K     \u001b[91m╸\u001b[0m\u001b[90m━━━━━━━━━━━━━━━━━━━━━━━━━━━━━━━━━━━━━━━\u001b[0m \u001b[32m0.2/15.2 MB\u001b[0m \u001b[31m6.5 MB/s\u001b[0m eta \u001b[36m0:00:03\u001b[0m\r\u001b[2K     \u001b[91m━━━\u001b[0m\u001b[91m╸\u001b[0m\u001b[90m━━━━━━━━━━━━━━━━━━━━━━━━━━━━━━━━━━━━\u001b[0m \u001b[32m1.4/15.2 MB\u001b[0m \u001b[31m20.6 MB/s\u001b[0m eta \u001b[36m0:00:01\u001b[0m\r\u001b[2K     \u001b[91m━━━━━━━━━━━━━━━━\u001b[0m\u001b[91m╸\u001b[0m\u001b[90m━━━━━━━━━━━━━━━━━━━━━━━\u001b[0m \u001b[32m6.4/15.2 MB\u001b[0m \u001b[31m60.7 MB/s\u001b[0m eta \u001b[36m0:00:01\u001b[0m\r\u001b[2K     \u001b[91m━━━━━━━━━━━━━━━━━━━━━━━━━━━━━━━\u001b[0m\u001b[91m╸\u001b[0m\u001b[90m━━━━━━━\u001b[0m \u001b[32m12.3/15.2 MB\u001b[0m \u001b[31m159.0 MB/s\u001b[0m eta \u001b[36m0:00:01\u001b[0m\r\u001b[2K     \u001b[91m━━━━━━━━━━━━━━━━━━━━━━━━━━━━━━━━━━━━━━\u001b[0m\u001b[91m╸\u001b[0m \u001b[32m15.2/15.2 MB\u001b[0m \u001b[31m162.6 MB/s\u001b[0m eta \u001b[36m0:00:01\u001b[0m\r\u001b[2K     \u001b[91m━━━━━━━━━━━━━━━━━━━━━━━━━━━━━━━━━━━━━━\u001b[0m\u001b[91m╸\u001b[0m \u001b[32m15.2/15.2 MB\u001b[0m \u001b[31m162.6 MB/s\u001b[0m eta \u001b[36m0:00:01\u001b[0m\r\u001b[2K     \u001b[90m━━━━━━━━━━━━━━━━━━━━━━━━━━━━━━━━━━━━━━━━\u001b[0m \u001b[32m15.2/15.2 MB\u001b[0m \u001b[31m70.7 MB/s\u001b[0m eta \u001b[36m0:00:00\u001b[0m\n",
            "\u001b[?25h"
          ]
        }
      ]
    },
    {
      "cell_type": "code",
      "source": [
        "!pip -q install yellowbrick"
      ],
      "metadata": {
        "id": "P6btzKBxpdOt"
      },
      "execution_count": null,
      "outputs": []
    },
    {
      "cell_type": "code",
      "source": [
        "from google.colab import drive\n",
        "drive.mount('/content/drive')"
      ],
      "metadata": {
        "colab": {
          "base_uri": "https://localhost:8080/"
        },
        "id": "LHwgcL_-7BZv",
        "outputId": "db6b0bbe-b63c-4d24-d389-339b0ef3a2a6"
      },
      "execution_count": null,
      "outputs": [
        {
          "output_type": "stream",
          "name": "stdout",
          "text": [
            "Mounted at /content/drive\n"
          ]
        }
      ]
    },
    {
      "cell_type": "code",
      "source": [
        "import pandas as pd\n",
        "import numpy as np\n",
        "import seaborn as sns\n",
        "import matplotlib.pyplot as plt\n",
        "import plotly.express as px"
      ],
      "metadata": {
        "id": "q05l7Gfepe3r"
      },
      "execution_count": null,
      "outputs": []
    },
    {
      "cell_type": "markdown",
      "source": [
        "# Dataset"
      ],
      "metadata": {
        "id": "KBGgm4tophq7"
      }
    },
    {
      "cell_type": "code",
      "source": [
        "dataset = pd.read_csv('/content/drive/MyDrive/Datasets/heart.csv')\n",
        "dataset"
      ],
      "metadata": {
        "id": "7ZiIAfQIpktp"
      },
      "execution_count": null,
      "outputs": []
    },
    {
      "cell_type": "markdown",
      "source": [
        "#Pré - processamento\n"
      ],
      "metadata": {
        "id": "m4G9q5Ksptti"
      }
    },
    {
      "cell_type": "code",
      "source": [
        "# Verificação de valores inconstantes \n",
        "dataset.describe()"
      ],
      "metadata": {
        "id": "nS1UdMlipzKk",
        "colab": {
          "base_uri": "https://localhost:8080/",
          "height": 300
        },
        "outputId": "fa8d7864-fed3-417b-baad-b4e466811a73"
      },
      "execution_count": null,
      "outputs": [
        {
          "output_type": "execute_result",
          "data": {
            "text/plain": [
              "              Age   RestingBP  Cholesterol   FastingBS       MaxHR  \\\n",
              "count  918.000000  918.000000   918.000000  918.000000  918.000000   \n",
              "mean    53.510893  132.396514   198.799564    0.233115  136.809368   \n",
              "std      9.432617   18.514154   109.384145    0.423046   25.460334   \n",
              "min     28.000000    0.000000     0.000000    0.000000   60.000000   \n",
              "25%     47.000000  120.000000   173.250000    0.000000  120.000000   \n",
              "50%     54.000000  130.000000   223.000000    0.000000  138.000000   \n",
              "75%     60.000000  140.000000   267.000000    0.000000  156.000000   \n",
              "max     77.000000  200.000000   603.000000    1.000000  202.000000   \n",
              "\n",
              "          Oldpeak  HeartDisease  \n",
              "count  918.000000    918.000000  \n",
              "mean     0.887364      0.553377  \n",
              "std      1.066570      0.497414  \n",
              "min     -2.600000      0.000000  \n",
              "25%      0.000000      0.000000  \n",
              "50%      0.600000      1.000000  \n",
              "75%      1.500000      1.000000  \n",
              "max      6.200000      1.000000  "
            ],
            "text/html": [
              "\n",
              "  <div id=\"df-70d4011a-6a96-4049-9ee4-cdb4e256c91a\">\n",
              "    <div class=\"colab-df-container\">\n",
              "      <div>\n",
              "<style scoped>\n",
              "    .dataframe tbody tr th:only-of-type {\n",
              "        vertical-align: middle;\n",
              "    }\n",
              "\n",
              "    .dataframe tbody tr th {\n",
              "        vertical-align: top;\n",
              "    }\n",
              "\n",
              "    .dataframe thead th {\n",
              "        text-align: right;\n",
              "    }\n",
              "</style>\n",
              "<table border=\"1\" class=\"dataframe\">\n",
              "  <thead>\n",
              "    <tr style=\"text-align: right;\">\n",
              "      <th></th>\n",
              "      <th>Age</th>\n",
              "      <th>RestingBP</th>\n",
              "      <th>Cholesterol</th>\n",
              "      <th>FastingBS</th>\n",
              "      <th>MaxHR</th>\n",
              "      <th>Oldpeak</th>\n",
              "      <th>HeartDisease</th>\n",
              "    </tr>\n",
              "  </thead>\n",
              "  <tbody>\n",
              "    <tr>\n",
              "      <th>count</th>\n",
              "      <td>918.000000</td>\n",
              "      <td>918.000000</td>\n",
              "      <td>918.000000</td>\n",
              "      <td>918.000000</td>\n",
              "      <td>918.000000</td>\n",
              "      <td>918.000000</td>\n",
              "      <td>918.000000</td>\n",
              "    </tr>\n",
              "    <tr>\n",
              "      <th>mean</th>\n",
              "      <td>53.510893</td>\n",
              "      <td>132.396514</td>\n",
              "      <td>198.799564</td>\n",
              "      <td>0.233115</td>\n",
              "      <td>136.809368</td>\n",
              "      <td>0.887364</td>\n",
              "      <td>0.553377</td>\n",
              "    </tr>\n",
              "    <tr>\n",
              "      <th>std</th>\n",
              "      <td>9.432617</td>\n",
              "      <td>18.514154</td>\n",
              "      <td>109.384145</td>\n",
              "      <td>0.423046</td>\n",
              "      <td>25.460334</td>\n",
              "      <td>1.066570</td>\n",
              "      <td>0.497414</td>\n",
              "    </tr>\n",
              "    <tr>\n",
              "      <th>min</th>\n",
              "      <td>28.000000</td>\n",
              "      <td>0.000000</td>\n",
              "      <td>0.000000</td>\n",
              "      <td>0.000000</td>\n",
              "      <td>60.000000</td>\n",
              "      <td>-2.600000</td>\n",
              "      <td>0.000000</td>\n",
              "    </tr>\n",
              "    <tr>\n",
              "      <th>25%</th>\n",
              "      <td>47.000000</td>\n",
              "      <td>120.000000</td>\n",
              "      <td>173.250000</td>\n",
              "      <td>0.000000</td>\n",
              "      <td>120.000000</td>\n",
              "      <td>0.000000</td>\n",
              "      <td>0.000000</td>\n",
              "    </tr>\n",
              "    <tr>\n",
              "      <th>50%</th>\n",
              "      <td>54.000000</td>\n",
              "      <td>130.000000</td>\n",
              "      <td>223.000000</td>\n",
              "      <td>0.000000</td>\n",
              "      <td>138.000000</td>\n",
              "      <td>0.600000</td>\n",
              "      <td>1.000000</td>\n",
              "    </tr>\n",
              "    <tr>\n",
              "      <th>75%</th>\n",
              "      <td>60.000000</td>\n",
              "      <td>140.000000</td>\n",
              "      <td>267.000000</td>\n",
              "      <td>0.000000</td>\n",
              "      <td>156.000000</td>\n",
              "      <td>1.500000</td>\n",
              "      <td>1.000000</td>\n",
              "    </tr>\n",
              "    <tr>\n",
              "      <th>max</th>\n",
              "      <td>77.000000</td>\n",
              "      <td>200.000000</td>\n",
              "      <td>603.000000</td>\n",
              "      <td>1.000000</td>\n",
              "      <td>202.000000</td>\n",
              "      <td>6.200000</td>\n",
              "      <td>1.000000</td>\n",
              "    </tr>\n",
              "  </tbody>\n",
              "</table>\n",
              "</div>\n",
              "      <button class=\"colab-df-convert\" onclick=\"convertToInteractive('df-70d4011a-6a96-4049-9ee4-cdb4e256c91a')\"\n",
              "              title=\"Convert this dataframe to an interactive table.\"\n",
              "              style=\"display:none;\">\n",
              "        \n",
              "  <svg xmlns=\"http://www.w3.org/2000/svg\" height=\"24px\"viewBox=\"0 0 24 24\"\n",
              "       width=\"24px\">\n",
              "    <path d=\"M0 0h24v24H0V0z\" fill=\"none\"/>\n",
              "    <path d=\"M18.56 5.44l.94 2.06.94-2.06 2.06-.94-2.06-.94-.94-2.06-.94 2.06-2.06.94zm-11 1L8.5 8.5l.94-2.06 2.06-.94-2.06-.94L8.5 2.5l-.94 2.06-2.06.94zm10 10l.94 2.06.94-2.06 2.06-.94-2.06-.94-.94-2.06-.94 2.06-2.06.94z\"/><path d=\"M17.41 7.96l-1.37-1.37c-.4-.4-.92-.59-1.43-.59-.52 0-1.04.2-1.43.59L10.3 9.45l-7.72 7.72c-.78.78-.78 2.05 0 2.83L4 21.41c.39.39.9.59 1.41.59.51 0 1.02-.2 1.41-.59l7.78-7.78 2.81-2.81c.8-.78.8-2.07 0-2.86zM5.41 20L4 18.59l7.72-7.72 1.47 1.35L5.41 20z\"/>\n",
              "  </svg>\n",
              "      </button>\n",
              "      \n",
              "  <style>\n",
              "    .colab-df-container {\n",
              "      display:flex;\n",
              "      flex-wrap:wrap;\n",
              "      gap: 12px;\n",
              "    }\n",
              "\n",
              "    .colab-df-convert {\n",
              "      background-color: #E8F0FE;\n",
              "      border: none;\n",
              "      border-radius: 50%;\n",
              "      cursor: pointer;\n",
              "      display: none;\n",
              "      fill: #1967D2;\n",
              "      height: 32px;\n",
              "      padding: 0 0 0 0;\n",
              "      width: 32px;\n",
              "    }\n",
              "\n",
              "    .colab-df-convert:hover {\n",
              "      background-color: #E2EBFA;\n",
              "      box-shadow: 0px 1px 2px rgba(60, 64, 67, 0.3), 0px 1px 3px 1px rgba(60, 64, 67, 0.15);\n",
              "      fill: #174EA6;\n",
              "    }\n",
              "\n",
              "    [theme=dark] .colab-df-convert {\n",
              "      background-color: #3B4455;\n",
              "      fill: #D2E3FC;\n",
              "    }\n",
              "\n",
              "    [theme=dark] .colab-df-convert:hover {\n",
              "      background-color: #434B5C;\n",
              "      box-shadow: 0px 1px 3px 1px rgba(0, 0, 0, 0.15);\n",
              "      filter: drop-shadow(0px 1px 2px rgba(0, 0, 0, 0.3));\n",
              "      fill: #FFFFFF;\n",
              "    }\n",
              "  </style>\n",
              "\n",
              "      <script>\n",
              "        const buttonEl =\n",
              "          document.querySelector('#df-70d4011a-6a96-4049-9ee4-cdb4e256c91a button.colab-df-convert');\n",
              "        buttonEl.style.display =\n",
              "          google.colab.kernel.accessAllowed ? 'block' : 'none';\n",
              "\n",
              "        async function convertToInteractive(key) {\n",
              "          const element = document.querySelector('#df-70d4011a-6a96-4049-9ee4-cdb4e256c91a');\n",
              "          const dataTable =\n",
              "            await google.colab.kernel.invokeFunction('convertToInteractive',\n",
              "                                                     [key], {});\n",
              "          if (!dataTable) return;\n",
              "\n",
              "          const docLinkHtml = 'Like what you see? Visit the ' +\n",
              "            '<a target=\"_blank\" href=https://colab.research.google.com/notebooks/data_table.ipynb>data table notebook</a>'\n",
              "            + ' to learn more about interactive tables.';\n",
              "          element.innerHTML = '';\n",
              "          dataTable['output_type'] = 'display_data';\n",
              "          await google.colab.output.renderOutput(dataTable, element);\n",
              "          const docLink = document.createElement('div');\n",
              "          docLink.innerHTML = docLinkHtml;\n",
              "          element.appendChild(docLink);\n",
              "        }\n",
              "      </script>\n",
              "    </div>\n",
              "  </div>\n",
              "  "
            ]
          },
          "metadata": {},
          "execution_count": 7
        }
      ]
    },
    {
      "cell_type": "code",
      "source": [
        "# Verificação de valores faltantes\n",
        "dataset.isnull().sum() #Verificação de quantos valores NAN o dataset possui"
      ],
      "metadata": {
        "id": "ktgx3T7DbFLf",
        "colab": {
          "base_uri": "https://localhost:8080/"
        },
        "outputId": "16899bca-62ab-439e-967a-5e27f06cf884"
      },
      "execution_count": null,
      "outputs": [
        {
          "output_type": "execute_result",
          "data": {
            "text/plain": [
              "Age               0\n",
              "Sex               0\n",
              "ChestPainType     0\n",
              "RestingBP         0\n",
              "Cholesterol       0\n",
              "FastingBS         0\n",
              "RestingECG        0\n",
              "MaxHR             0\n",
              "ExerciseAngina    0\n",
              "Oldpeak           0\n",
              "ST_Slope          0\n",
              "HeartDisease      0\n",
              "dtype: int64"
            ]
          },
          "metadata": {},
          "execution_count": 8
        }
      ]
    },
    {
      "cell_type": "code",
      "source": [
        "# Variaveis utilizadas para previsão\n",
        "x_dataset = dataset.iloc[:,0:11].values\n",
        "x_dataset"
      ],
      "metadata": {
        "id": "jxpfeW0SAqaW"
      },
      "execution_count": null,
      "outputs": []
    },
    {
      "cell_type": "code",
      "source": [
        "# Variáveis utilizadas para classificação\n",
        "y_dataset = dataset.iloc[:,11].values\n",
        "y_dataset"
      ],
      "metadata": {
        "id": "6TC7sf5MArjq"
      },
      "execution_count": null,
      "outputs": []
    },
    {
      "cell_type": "code",
      "source": [
        "# Label Encoder ( transformar string em número)\n",
        "from sklearn.preprocessing import LabelEncoder\n",
        "x_dataset[:,1] = LabelEncoder().fit_transform(x_dataset[:,1])\n",
        "x_dataset[:,2] = LabelEncoder().fit_transform(x_dataset[:,2])\n",
        "x_dataset[:,6] = LabelEncoder().fit_transform(x_dataset[:,6])\n",
        "x_dataset[:,8] = LabelEncoder().fit_transform(x_dataset[:,8])\n",
        "x_dataset[:,10] = LabelEncoder().fit_transform(x_dataset[:,10])\n",
        "pd.DataFrame(x_dataset)"
      ],
      "metadata": {
        "id": "zSVaGdmDbn74",
        "colab": {
          "base_uri": "https://localhost:8080/",
          "height": 424
        },
        "outputId": "574438a3-327c-418c-b0df-429036dbfd82"
      },
      "execution_count": null,
      "outputs": [
        {
          "output_type": "execute_result",
          "data": {
            "text/plain": [
              "     0  1  2    3    4  5  6    7  8    9  10\n",
              "0    40  1  1  140  289  0  1  172  0  0.0  2\n",
              "1    49  0  2  160  180  0  1  156  0  1.0  1\n",
              "2    37  1  1  130  283  0  2   98  0  0.0  2\n",
              "3    48  0  0  138  214  0  1  108  1  1.5  1\n",
              "4    54  1  2  150  195  0  1  122  0  0.0  2\n",
              "..   .. .. ..  ...  ... .. ..  ... ..  ... ..\n",
              "913  45  1  3  110  264  0  1  132  0  1.2  1\n",
              "914  68  1  0  144  193  1  1  141  0  3.4  1\n",
              "915  57  1  0  130  131  0  1  115  1  1.2  1\n",
              "916  57  0  1  130  236  0  0  174  0  0.0  1\n",
              "917  38  1  2  138  175  0  1  173  0  0.0  2\n",
              "\n",
              "[918 rows x 11 columns]"
            ],
            "text/html": [
              "\n",
              "  <div id=\"df-f1624e04-416b-4068-8929-da53b15ea95a\">\n",
              "    <div class=\"colab-df-container\">\n",
              "      <div>\n",
              "<style scoped>\n",
              "    .dataframe tbody tr th:only-of-type {\n",
              "        vertical-align: middle;\n",
              "    }\n",
              "\n",
              "    .dataframe tbody tr th {\n",
              "        vertical-align: top;\n",
              "    }\n",
              "\n",
              "    .dataframe thead th {\n",
              "        text-align: right;\n",
              "    }\n",
              "</style>\n",
              "<table border=\"1\" class=\"dataframe\">\n",
              "  <thead>\n",
              "    <tr style=\"text-align: right;\">\n",
              "      <th></th>\n",
              "      <th>0</th>\n",
              "      <th>1</th>\n",
              "      <th>2</th>\n",
              "      <th>3</th>\n",
              "      <th>4</th>\n",
              "      <th>5</th>\n",
              "      <th>6</th>\n",
              "      <th>7</th>\n",
              "      <th>8</th>\n",
              "      <th>9</th>\n",
              "      <th>10</th>\n",
              "    </tr>\n",
              "  </thead>\n",
              "  <tbody>\n",
              "    <tr>\n",
              "      <th>0</th>\n",
              "      <td>40</td>\n",
              "      <td>1</td>\n",
              "      <td>1</td>\n",
              "      <td>140</td>\n",
              "      <td>289</td>\n",
              "      <td>0</td>\n",
              "      <td>1</td>\n",
              "      <td>172</td>\n",
              "      <td>0</td>\n",
              "      <td>0.0</td>\n",
              "      <td>2</td>\n",
              "    </tr>\n",
              "    <tr>\n",
              "      <th>1</th>\n",
              "      <td>49</td>\n",
              "      <td>0</td>\n",
              "      <td>2</td>\n",
              "      <td>160</td>\n",
              "      <td>180</td>\n",
              "      <td>0</td>\n",
              "      <td>1</td>\n",
              "      <td>156</td>\n",
              "      <td>0</td>\n",
              "      <td>1.0</td>\n",
              "      <td>1</td>\n",
              "    </tr>\n",
              "    <tr>\n",
              "      <th>2</th>\n",
              "      <td>37</td>\n",
              "      <td>1</td>\n",
              "      <td>1</td>\n",
              "      <td>130</td>\n",
              "      <td>283</td>\n",
              "      <td>0</td>\n",
              "      <td>2</td>\n",
              "      <td>98</td>\n",
              "      <td>0</td>\n",
              "      <td>0.0</td>\n",
              "      <td>2</td>\n",
              "    </tr>\n",
              "    <tr>\n",
              "      <th>3</th>\n",
              "      <td>48</td>\n",
              "      <td>0</td>\n",
              "      <td>0</td>\n",
              "      <td>138</td>\n",
              "      <td>214</td>\n",
              "      <td>0</td>\n",
              "      <td>1</td>\n",
              "      <td>108</td>\n",
              "      <td>1</td>\n",
              "      <td>1.5</td>\n",
              "      <td>1</td>\n",
              "    </tr>\n",
              "    <tr>\n",
              "      <th>4</th>\n",
              "      <td>54</td>\n",
              "      <td>1</td>\n",
              "      <td>2</td>\n",
              "      <td>150</td>\n",
              "      <td>195</td>\n",
              "      <td>0</td>\n",
              "      <td>1</td>\n",
              "      <td>122</td>\n",
              "      <td>0</td>\n",
              "      <td>0.0</td>\n",
              "      <td>2</td>\n",
              "    </tr>\n",
              "    <tr>\n",
              "      <th>...</th>\n",
              "      <td>...</td>\n",
              "      <td>...</td>\n",
              "      <td>...</td>\n",
              "      <td>...</td>\n",
              "      <td>...</td>\n",
              "      <td>...</td>\n",
              "      <td>...</td>\n",
              "      <td>...</td>\n",
              "      <td>...</td>\n",
              "      <td>...</td>\n",
              "      <td>...</td>\n",
              "    </tr>\n",
              "    <tr>\n",
              "      <th>913</th>\n",
              "      <td>45</td>\n",
              "      <td>1</td>\n",
              "      <td>3</td>\n",
              "      <td>110</td>\n",
              "      <td>264</td>\n",
              "      <td>0</td>\n",
              "      <td>1</td>\n",
              "      <td>132</td>\n",
              "      <td>0</td>\n",
              "      <td>1.2</td>\n",
              "      <td>1</td>\n",
              "    </tr>\n",
              "    <tr>\n",
              "      <th>914</th>\n",
              "      <td>68</td>\n",
              "      <td>1</td>\n",
              "      <td>0</td>\n",
              "      <td>144</td>\n",
              "      <td>193</td>\n",
              "      <td>1</td>\n",
              "      <td>1</td>\n",
              "      <td>141</td>\n",
              "      <td>0</td>\n",
              "      <td>3.4</td>\n",
              "      <td>1</td>\n",
              "    </tr>\n",
              "    <tr>\n",
              "      <th>915</th>\n",
              "      <td>57</td>\n",
              "      <td>1</td>\n",
              "      <td>0</td>\n",
              "      <td>130</td>\n",
              "      <td>131</td>\n",
              "      <td>0</td>\n",
              "      <td>1</td>\n",
              "      <td>115</td>\n",
              "      <td>1</td>\n",
              "      <td>1.2</td>\n",
              "      <td>1</td>\n",
              "    </tr>\n",
              "    <tr>\n",
              "      <th>916</th>\n",
              "      <td>57</td>\n",
              "      <td>0</td>\n",
              "      <td>1</td>\n",
              "      <td>130</td>\n",
              "      <td>236</td>\n",
              "      <td>0</td>\n",
              "      <td>0</td>\n",
              "      <td>174</td>\n",
              "      <td>0</td>\n",
              "      <td>0.0</td>\n",
              "      <td>1</td>\n",
              "    </tr>\n",
              "    <tr>\n",
              "      <th>917</th>\n",
              "      <td>38</td>\n",
              "      <td>1</td>\n",
              "      <td>2</td>\n",
              "      <td>138</td>\n",
              "      <td>175</td>\n",
              "      <td>0</td>\n",
              "      <td>1</td>\n",
              "      <td>173</td>\n",
              "      <td>0</td>\n",
              "      <td>0.0</td>\n",
              "      <td>2</td>\n",
              "    </tr>\n",
              "  </tbody>\n",
              "</table>\n",
              "<p>918 rows × 11 columns</p>\n",
              "</div>\n",
              "      <button class=\"colab-df-convert\" onclick=\"convertToInteractive('df-f1624e04-416b-4068-8929-da53b15ea95a')\"\n",
              "              title=\"Convert this dataframe to an interactive table.\"\n",
              "              style=\"display:none;\">\n",
              "        \n",
              "  <svg xmlns=\"http://www.w3.org/2000/svg\" height=\"24px\"viewBox=\"0 0 24 24\"\n",
              "       width=\"24px\">\n",
              "    <path d=\"M0 0h24v24H0V0z\" fill=\"none\"/>\n",
              "    <path d=\"M18.56 5.44l.94 2.06.94-2.06 2.06-.94-2.06-.94-.94-2.06-.94 2.06-2.06.94zm-11 1L8.5 8.5l.94-2.06 2.06-.94-2.06-.94L8.5 2.5l-.94 2.06-2.06.94zm10 10l.94 2.06.94-2.06 2.06-.94-2.06-.94-.94-2.06-.94 2.06-2.06.94z\"/><path d=\"M17.41 7.96l-1.37-1.37c-.4-.4-.92-.59-1.43-.59-.52 0-1.04.2-1.43.59L10.3 9.45l-7.72 7.72c-.78.78-.78 2.05 0 2.83L4 21.41c.39.39.9.59 1.41.59.51 0 1.02-.2 1.41-.59l7.78-7.78 2.81-2.81c.8-.78.8-2.07 0-2.86zM5.41 20L4 18.59l7.72-7.72 1.47 1.35L5.41 20z\"/>\n",
              "  </svg>\n",
              "      </button>\n",
              "      \n",
              "  <style>\n",
              "    .colab-df-container {\n",
              "      display:flex;\n",
              "      flex-wrap:wrap;\n",
              "      gap: 12px;\n",
              "    }\n",
              "\n",
              "    .colab-df-convert {\n",
              "      background-color: #E8F0FE;\n",
              "      border: none;\n",
              "      border-radius: 50%;\n",
              "      cursor: pointer;\n",
              "      display: none;\n",
              "      fill: #1967D2;\n",
              "      height: 32px;\n",
              "      padding: 0 0 0 0;\n",
              "      width: 32px;\n",
              "    }\n",
              "\n",
              "    .colab-df-convert:hover {\n",
              "      background-color: #E2EBFA;\n",
              "      box-shadow: 0px 1px 2px rgba(60, 64, 67, 0.3), 0px 1px 3px 1px rgba(60, 64, 67, 0.15);\n",
              "      fill: #174EA6;\n",
              "    }\n",
              "\n",
              "    [theme=dark] .colab-df-convert {\n",
              "      background-color: #3B4455;\n",
              "      fill: #D2E3FC;\n",
              "    }\n",
              "\n",
              "    [theme=dark] .colab-df-convert:hover {\n",
              "      background-color: #434B5C;\n",
              "      box-shadow: 0px 1px 3px 1px rgba(0, 0, 0, 0.15);\n",
              "      filter: drop-shadow(0px 1px 2px rgba(0, 0, 0, 0.3));\n",
              "      fill: #FFFFFF;\n",
              "    }\n",
              "  </style>\n",
              "\n",
              "      <script>\n",
              "        const buttonEl =\n",
              "          document.querySelector('#df-f1624e04-416b-4068-8929-da53b15ea95a button.colab-df-convert');\n",
              "        buttonEl.style.display =\n",
              "          google.colab.kernel.accessAllowed ? 'block' : 'none';\n",
              "\n",
              "        async function convertToInteractive(key) {\n",
              "          const element = document.querySelector('#df-f1624e04-416b-4068-8929-da53b15ea95a');\n",
              "          const dataTable =\n",
              "            await google.colab.kernel.invokeFunction('convertToInteractive',\n",
              "                                                     [key], {});\n",
              "          if (!dataTable) return;\n",
              "\n",
              "          const docLinkHtml = 'Like what you see? Visit the ' +\n",
              "            '<a target=\"_blank\" href=https://colab.research.google.com/notebooks/data_table.ipynb>data table notebook</a>'\n",
              "            + ' to learn more about interactive tables.';\n",
              "          element.innerHTML = '';\n",
              "          dataTable['output_type'] = 'display_data';\n",
              "          await google.colab.output.renderOutput(dataTable, element);\n",
              "          const docLink = document.createElement('div');\n",
              "          docLink.innerHTML = docLinkHtml;\n",
              "          element.appendChild(docLink);\n",
              "        }\n",
              "      </script>\n",
              "    </div>\n",
              "  </div>\n",
              "  "
            ]
          },
          "metadata": {},
          "execution_count": 19
        }
      ]
    },
    {
      "cell_type": "code",
      "source": [
        "# Codificando os numeros criados ( muito bom para os modelos que trabalham com ramificações)\n",
        "from sklearn.preprocessing import OneHotEncoder\n",
        "from sklearn.compose import ColumnTransformer\n",
        "onehotencoder_census = ColumnTransformer(transformers=[('OneHot', OneHotEncoder(), [1,2,6,8,10])], remainder='passthrough')\n",
        "x_dataset = onehotencoder_census.fit_transform(x_dataset)\n",
        "x_dataset.shape\n",
        "pd.DataFrame(x_dataset)"
      ],
      "metadata": {
        "id": "lAgDc0wPeQWR",
        "colab": {
          "base_uri": "https://localhost:8080/",
          "height": 468
        },
        "outputId": "447323b8-e502-43c3-b911-141225a6f9c1"
      },
      "execution_count": null,
      "outputs": [
        {
          "output_type": "execute_result",
          "data": {
            "text/plain": [
              "      0    1    2    3    4    5    6    7    8    9   ...   15   16   17  \\\n",
              "0    0.0  1.0  1.0  0.0  1.0  0.0  1.0  0.0  1.0  0.0  ...  1.0  0.0  0.0   \n",
              "1    1.0  0.0  1.0  0.0  1.0  0.0  1.0  0.0  1.0  0.0  ...  1.0  0.0  1.0   \n",
              "2    0.0  1.0  1.0  0.0  1.0  0.0  0.0  1.0  1.0  0.0  ...  1.0  0.0  0.0   \n",
              "3    1.0  0.0  0.0  1.0  1.0  0.0  1.0  0.0  0.0  1.0  ...  0.0  0.0  1.0   \n",
              "4    0.0  1.0  1.0  0.0  1.0  0.0  1.0  0.0  1.0  0.0  ...  1.0  0.0  0.0   \n",
              "..   ...  ...  ...  ...  ...  ...  ...  ...  ...  ...  ...  ...  ...  ...   \n",
              "913  0.0  1.0  1.0  0.0  1.0  0.0  1.0  0.0  1.0  0.0  ...  1.0  0.0  1.0   \n",
              "914  0.0  1.0  0.0  1.0  1.0  0.0  1.0  0.0  1.0  0.0  ...  1.0  0.0  1.0   \n",
              "915  0.0  1.0  0.0  1.0  1.0  0.0  1.0  0.0  0.0  1.0  ...  0.0  0.0  1.0   \n",
              "916  1.0  0.0  1.0  0.0  0.0  1.0  1.0  0.0  1.0  0.0  ...  1.0  0.0  1.0   \n",
              "917  0.0  1.0  1.0  0.0  1.0  0.0  1.0  0.0  1.0  0.0  ...  1.0  0.0  0.0   \n",
              "\n",
              "      18  19   20   21 22   23   24  \n",
              "0    1.0  40  140  289  0  172  0.0  \n",
              "1    0.0  49  160  180  0  156  1.0  \n",
              "2    1.0  37  130  283  0   98  0.0  \n",
              "3    0.0  48  138  214  0  108  1.5  \n",
              "4    1.0  54  150  195  0  122  0.0  \n",
              "..   ...  ..  ...  ... ..  ...  ...  \n",
              "913  0.0  45  110  264  0  132  1.2  \n",
              "914  0.0  68  144  193  1  141  3.4  \n",
              "915  0.0  57  130  131  0  115  1.2  \n",
              "916  0.0  57  130  236  0  174  0.0  \n",
              "917  1.0  38  138  175  0  173  0.0  \n",
              "\n",
              "[918 rows x 25 columns]"
            ],
            "text/html": [
              "\n",
              "  <div id=\"df-899fc19b-d0e5-4bfd-99c4-d374cbde8258\">\n",
              "    <div class=\"colab-df-container\">\n",
              "      <div>\n",
              "<style scoped>\n",
              "    .dataframe tbody tr th:only-of-type {\n",
              "        vertical-align: middle;\n",
              "    }\n",
              "\n",
              "    .dataframe tbody tr th {\n",
              "        vertical-align: top;\n",
              "    }\n",
              "\n",
              "    .dataframe thead th {\n",
              "        text-align: right;\n",
              "    }\n",
              "</style>\n",
              "<table border=\"1\" class=\"dataframe\">\n",
              "  <thead>\n",
              "    <tr style=\"text-align: right;\">\n",
              "      <th></th>\n",
              "      <th>0</th>\n",
              "      <th>1</th>\n",
              "      <th>2</th>\n",
              "      <th>3</th>\n",
              "      <th>4</th>\n",
              "      <th>5</th>\n",
              "      <th>6</th>\n",
              "      <th>7</th>\n",
              "      <th>8</th>\n",
              "      <th>9</th>\n",
              "      <th>...</th>\n",
              "      <th>15</th>\n",
              "      <th>16</th>\n",
              "      <th>17</th>\n",
              "      <th>18</th>\n",
              "      <th>19</th>\n",
              "      <th>20</th>\n",
              "      <th>21</th>\n",
              "      <th>22</th>\n",
              "      <th>23</th>\n",
              "      <th>24</th>\n",
              "    </tr>\n",
              "  </thead>\n",
              "  <tbody>\n",
              "    <tr>\n",
              "      <th>0</th>\n",
              "      <td>0.0</td>\n",
              "      <td>1.0</td>\n",
              "      <td>1.0</td>\n",
              "      <td>0.0</td>\n",
              "      <td>1.0</td>\n",
              "      <td>0.0</td>\n",
              "      <td>1.0</td>\n",
              "      <td>0.0</td>\n",
              "      <td>1.0</td>\n",
              "      <td>0.0</td>\n",
              "      <td>...</td>\n",
              "      <td>1.0</td>\n",
              "      <td>0.0</td>\n",
              "      <td>0.0</td>\n",
              "      <td>1.0</td>\n",
              "      <td>40</td>\n",
              "      <td>140</td>\n",
              "      <td>289</td>\n",
              "      <td>0</td>\n",
              "      <td>172</td>\n",
              "      <td>0.0</td>\n",
              "    </tr>\n",
              "    <tr>\n",
              "      <th>1</th>\n",
              "      <td>1.0</td>\n",
              "      <td>0.0</td>\n",
              "      <td>1.0</td>\n",
              "      <td>0.0</td>\n",
              "      <td>1.0</td>\n",
              "      <td>0.0</td>\n",
              "      <td>1.0</td>\n",
              "      <td>0.0</td>\n",
              "      <td>1.0</td>\n",
              "      <td>0.0</td>\n",
              "      <td>...</td>\n",
              "      <td>1.0</td>\n",
              "      <td>0.0</td>\n",
              "      <td>1.0</td>\n",
              "      <td>0.0</td>\n",
              "      <td>49</td>\n",
              "      <td>160</td>\n",
              "      <td>180</td>\n",
              "      <td>0</td>\n",
              "      <td>156</td>\n",
              "      <td>1.0</td>\n",
              "    </tr>\n",
              "    <tr>\n",
              "      <th>2</th>\n",
              "      <td>0.0</td>\n",
              "      <td>1.0</td>\n",
              "      <td>1.0</td>\n",
              "      <td>0.0</td>\n",
              "      <td>1.0</td>\n",
              "      <td>0.0</td>\n",
              "      <td>0.0</td>\n",
              "      <td>1.0</td>\n",
              "      <td>1.0</td>\n",
              "      <td>0.0</td>\n",
              "      <td>...</td>\n",
              "      <td>1.0</td>\n",
              "      <td>0.0</td>\n",
              "      <td>0.0</td>\n",
              "      <td>1.0</td>\n",
              "      <td>37</td>\n",
              "      <td>130</td>\n",
              "      <td>283</td>\n",
              "      <td>0</td>\n",
              "      <td>98</td>\n",
              "      <td>0.0</td>\n",
              "    </tr>\n",
              "    <tr>\n",
              "      <th>3</th>\n",
              "      <td>1.0</td>\n",
              "      <td>0.0</td>\n",
              "      <td>0.0</td>\n",
              "      <td>1.0</td>\n",
              "      <td>1.0</td>\n",
              "      <td>0.0</td>\n",
              "      <td>1.0</td>\n",
              "      <td>0.0</td>\n",
              "      <td>0.0</td>\n",
              "      <td>1.0</td>\n",
              "      <td>...</td>\n",
              "      <td>0.0</td>\n",
              "      <td>0.0</td>\n",
              "      <td>1.0</td>\n",
              "      <td>0.0</td>\n",
              "      <td>48</td>\n",
              "      <td>138</td>\n",
              "      <td>214</td>\n",
              "      <td>0</td>\n",
              "      <td>108</td>\n",
              "      <td>1.5</td>\n",
              "    </tr>\n",
              "    <tr>\n",
              "      <th>4</th>\n",
              "      <td>0.0</td>\n",
              "      <td>1.0</td>\n",
              "      <td>1.0</td>\n",
              "      <td>0.0</td>\n",
              "      <td>1.0</td>\n",
              "      <td>0.0</td>\n",
              "      <td>1.0</td>\n",
              "      <td>0.0</td>\n",
              "      <td>1.0</td>\n",
              "      <td>0.0</td>\n",
              "      <td>...</td>\n",
              "      <td>1.0</td>\n",
              "      <td>0.0</td>\n",
              "      <td>0.0</td>\n",
              "      <td>1.0</td>\n",
              "      <td>54</td>\n",
              "      <td>150</td>\n",
              "      <td>195</td>\n",
              "      <td>0</td>\n",
              "      <td>122</td>\n",
              "      <td>0.0</td>\n",
              "    </tr>\n",
              "    <tr>\n",
              "      <th>...</th>\n",
              "      <td>...</td>\n",
              "      <td>...</td>\n",
              "      <td>...</td>\n",
              "      <td>...</td>\n",
              "      <td>...</td>\n",
              "      <td>...</td>\n",
              "      <td>...</td>\n",
              "      <td>...</td>\n",
              "      <td>...</td>\n",
              "      <td>...</td>\n",
              "      <td>...</td>\n",
              "      <td>...</td>\n",
              "      <td>...</td>\n",
              "      <td>...</td>\n",
              "      <td>...</td>\n",
              "      <td>...</td>\n",
              "      <td>...</td>\n",
              "      <td>...</td>\n",
              "      <td>...</td>\n",
              "      <td>...</td>\n",
              "      <td>...</td>\n",
              "    </tr>\n",
              "    <tr>\n",
              "      <th>913</th>\n",
              "      <td>0.0</td>\n",
              "      <td>1.0</td>\n",
              "      <td>1.0</td>\n",
              "      <td>0.0</td>\n",
              "      <td>1.0</td>\n",
              "      <td>0.0</td>\n",
              "      <td>1.0</td>\n",
              "      <td>0.0</td>\n",
              "      <td>1.0</td>\n",
              "      <td>0.0</td>\n",
              "      <td>...</td>\n",
              "      <td>1.0</td>\n",
              "      <td>0.0</td>\n",
              "      <td>1.0</td>\n",
              "      <td>0.0</td>\n",
              "      <td>45</td>\n",
              "      <td>110</td>\n",
              "      <td>264</td>\n",
              "      <td>0</td>\n",
              "      <td>132</td>\n",
              "      <td>1.2</td>\n",
              "    </tr>\n",
              "    <tr>\n",
              "      <th>914</th>\n",
              "      <td>0.0</td>\n",
              "      <td>1.0</td>\n",
              "      <td>0.0</td>\n",
              "      <td>1.0</td>\n",
              "      <td>1.0</td>\n",
              "      <td>0.0</td>\n",
              "      <td>1.0</td>\n",
              "      <td>0.0</td>\n",
              "      <td>1.0</td>\n",
              "      <td>0.0</td>\n",
              "      <td>...</td>\n",
              "      <td>1.0</td>\n",
              "      <td>0.0</td>\n",
              "      <td>1.0</td>\n",
              "      <td>0.0</td>\n",
              "      <td>68</td>\n",
              "      <td>144</td>\n",
              "      <td>193</td>\n",
              "      <td>1</td>\n",
              "      <td>141</td>\n",
              "      <td>3.4</td>\n",
              "    </tr>\n",
              "    <tr>\n",
              "      <th>915</th>\n",
              "      <td>0.0</td>\n",
              "      <td>1.0</td>\n",
              "      <td>0.0</td>\n",
              "      <td>1.0</td>\n",
              "      <td>1.0</td>\n",
              "      <td>0.0</td>\n",
              "      <td>1.0</td>\n",
              "      <td>0.0</td>\n",
              "      <td>0.0</td>\n",
              "      <td>1.0</td>\n",
              "      <td>...</td>\n",
              "      <td>0.0</td>\n",
              "      <td>0.0</td>\n",
              "      <td>1.0</td>\n",
              "      <td>0.0</td>\n",
              "      <td>57</td>\n",
              "      <td>130</td>\n",
              "      <td>131</td>\n",
              "      <td>0</td>\n",
              "      <td>115</td>\n",
              "      <td>1.2</td>\n",
              "    </tr>\n",
              "    <tr>\n",
              "      <th>916</th>\n",
              "      <td>1.0</td>\n",
              "      <td>0.0</td>\n",
              "      <td>1.0</td>\n",
              "      <td>0.0</td>\n",
              "      <td>0.0</td>\n",
              "      <td>1.0</td>\n",
              "      <td>1.0</td>\n",
              "      <td>0.0</td>\n",
              "      <td>1.0</td>\n",
              "      <td>0.0</td>\n",
              "      <td>...</td>\n",
              "      <td>1.0</td>\n",
              "      <td>0.0</td>\n",
              "      <td>1.0</td>\n",
              "      <td>0.0</td>\n",
              "      <td>57</td>\n",
              "      <td>130</td>\n",
              "      <td>236</td>\n",
              "      <td>0</td>\n",
              "      <td>174</td>\n",
              "      <td>0.0</td>\n",
              "    </tr>\n",
              "    <tr>\n",
              "      <th>917</th>\n",
              "      <td>0.0</td>\n",
              "      <td>1.0</td>\n",
              "      <td>1.0</td>\n",
              "      <td>0.0</td>\n",
              "      <td>1.0</td>\n",
              "      <td>0.0</td>\n",
              "      <td>1.0</td>\n",
              "      <td>0.0</td>\n",
              "      <td>1.0</td>\n",
              "      <td>0.0</td>\n",
              "      <td>...</td>\n",
              "      <td>1.0</td>\n",
              "      <td>0.0</td>\n",
              "      <td>0.0</td>\n",
              "      <td>1.0</td>\n",
              "      <td>38</td>\n",
              "      <td>138</td>\n",
              "      <td>175</td>\n",
              "      <td>0</td>\n",
              "      <td>173</td>\n",
              "      <td>0.0</td>\n",
              "    </tr>\n",
              "  </tbody>\n",
              "</table>\n",
              "<p>918 rows × 25 columns</p>\n",
              "</div>\n",
              "      <button class=\"colab-df-convert\" onclick=\"convertToInteractive('df-899fc19b-d0e5-4bfd-99c4-d374cbde8258')\"\n",
              "              title=\"Convert this dataframe to an interactive table.\"\n",
              "              style=\"display:none;\">\n",
              "        \n",
              "  <svg xmlns=\"http://www.w3.org/2000/svg\" height=\"24px\"viewBox=\"0 0 24 24\"\n",
              "       width=\"24px\">\n",
              "    <path d=\"M0 0h24v24H0V0z\" fill=\"none\"/>\n",
              "    <path d=\"M18.56 5.44l.94 2.06.94-2.06 2.06-.94-2.06-.94-.94-2.06-.94 2.06-2.06.94zm-11 1L8.5 8.5l.94-2.06 2.06-.94-2.06-.94L8.5 2.5l-.94 2.06-2.06.94zm10 10l.94 2.06.94-2.06 2.06-.94-2.06-.94-.94-2.06-.94 2.06-2.06.94z\"/><path d=\"M17.41 7.96l-1.37-1.37c-.4-.4-.92-.59-1.43-.59-.52 0-1.04.2-1.43.59L10.3 9.45l-7.72 7.72c-.78.78-.78 2.05 0 2.83L4 21.41c.39.39.9.59 1.41.59.51 0 1.02-.2 1.41-.59l7.78-7.78 2.81-2.81c.8-.78.8-2.07 0-2.86zM5.41 20L4 18.59l7.72-7.72 1.47 1.35L5.41 20z\"/>\n",
              "  </svg>\n",
              "      </button>\n",
              "      \n",
              "  <style>\n",
              "    .colab-df-container {\n",
              "      display:flex;\n",
              "      flex-wrap:wrap;\n",
              "      gap: 12px;\n",
              "    }\n",
              "\n",
              "    .colab-df-convert {\n",
              "      background-color: #E8F0FE;\n",
              "      border: none;\n",
              "      border-radius: 50%;\n",
              "      cursor: pointer;\n",
              "      display: none;\n",
              "      fill: #1967D2;\n",
              "      height: 32px;\n",
              "      padding: 0 0 0 0;\n",
              "      width: 32px;\n",
              "    }\n",
              "\n",
              "    .colab-df-convert:hover {\n",
              "      background-color: #E2EBFA;\n",
              "      box-shadow: 0px 1px 2px rgba(60, 64, 67, 0.3), 0px 1px 3px 1px rgba(60, 64, 67, 0.15);\n",
              "      fill: #174EA6;\n",
              "    }\n",
              "\n",
              "    [theme=dark] .colab-df-convert {\n",
              "      background-color: #3B4455;\n",
              "      fill: #D2E3FC;\n",
              "    }\n",
              "\n",
              "    [theme=dark] .colab-df-convert:hover {\n",
              "      background-color: #434B5C;\n",
              "      box-shadow: 0px 1px 3px 1px rgba(0, 0, 0, 0.15);\n",
              "      filter: drop-shadow(0px 1px 2px rgba(0, 0, 0, 0.3));\n",
              "      fill: #FFFFFF;\n",
              "    }\n",
              "  </style>\n",
              "\n",
              "      <script>\n",
              "        const buttonEl =\n",
              "          document.querySelector('#df-899fc19b-d0e5-4bfd-99c4-d374cbde8258 button.colab-df-convert');\n",
              "        buttonEl.style.display =\n",
              "          google.colab.kernel.accessAllowed ? 'block' : 'none';\n",
              "\n",
              "        async function convertToInteractive(key) {\n",
              "          const element = document.querySelector('#df-899fc19b-d0e5-4bfd-99c4-d374cbde8258');\n",
              "          const dataTable =\n",
              "            await google.colab.kernel.invokeFunction('convertToInteractive',\n",
              "                                                     [key], {});\n",
              "          if (!dataTable) return;\n",
              "\n",
              "          const docLinkHtml = 'Like what you see? Visit the ' +\n",
              "            '<a target=\"_blank\" href=https://colab.research.google.com/notebooks/data_table.ipynb>data table notebook</a>'\n",
              "            + ' to learn more about interactive tables.';\n",
              "          element.innerHTML = '';\n",
              "          dataTable['output_type'] = 'display_data';\n",
              "          await google.colab.output.renderOutput(dataTable, element);\n",
              "          const docLink = document.createElement('div');\n",
              "          docLink.innerHTML = docLinkHtml;\n",
              "          element.appendChild(docLink);\n",
              "        }\n",
              "      </script>\n",
              "    </div>\n",
              "  </div>\n",
              "  "
            ]
          },
          "metadata": {},
          "execution_count": 13
        }
      ]
    },
    {
      "cell_type": "code",
      "source": [
        "# Padronização dos valores \n",
        "from sklearn.preprocessing import StandardScaler\n",
        "scaler = StandardScaler()\n",
        "x_dataset = scaler.fit_transform(x_dataset)\n",
        "x_dataset"
      ],
      "metadata": {
        "id": "PIgqOFltAwul",
        "colab": {
          "base_uri": "https://localhost:8080/"
        },
        "outputId": "93d9f6d9-5cf6-42a9-de10-95d1ecbcbb51"
      },
      "execution_count": null,
      "outputs": [
        {
          "output_type": "execute_result",
          "data": {
            "text/plain": [
              "array([[-1.4331398 ,  0.51595242,  0.22903206, ..., -0.8235563 ,\n",
              "        -0.83243239,  1.05211381],\n",
              "       [-0.47848359, -1.93816322,  1.27505906, ..., -0.8235563 ,\n",
              "         0.10566353, -0.59607813],\n",
              "       [-1.75135854,  0.51595242,  0.22903206, ..., -0.8235563 ,\n",
              "        -0.83243239,  1.05211381],\n",
              "       ...,\n",
              "       [ 0.37009972,  0.51595242, -0.81699495, ...,  1.21424608,\n",
              "         0.29328271, -0.59607813],\n",
              "       [ 0.37009972, -1.93816322,  0.22903206, ..., -0.8235563 ,\n",
              "        -0.83243239, -0.59607813],\n",
              "       [-1.64528563,  0.51595242,  1.27505906, ..., -0.8235563 ,\n",
              "        -0.83243239,  1.05211381]])"
            ]
          },
          "metadata": {},
          "execution_count": 20
        }
      ]
    },
    {
      "cell_type": "markdown",
      "source": [
        "#Teste 01 - Utilizando 70% treino x 30 Teste (utilizando One hot encoder )\n"
      ],
      "metadata": {
        "id": "zzkwHZZ7ipim"
      }
    },
    {
      "cell_type": "markdown",
      "source": [
        "## Treinamento x Teste"
      ],
      "metadata": {
        "id": "A8iEtrJuLiHB"
      }
    },
    {
      "cell_type": "code",
      "source": [
        "from sklearn.model_selection import train_test_split\n",
        "x_train, x_teste,y_train, y_teste = train_test_split(x_dataset, y_dataset, test_size = 0.30, random_state = 0)"
      ],
      "metadata": {
        "id": "-xjqmtW-LmPZ"
      },
      "execution_count": null,
      "outputs": []
    },
    {
      "cell_type": "code",
      "source": [
        "y_teste"
      ],
      "metadata": {
        "id": "Whx6RKpd9_Wu"
      },
      "execution_count": null,
      "outputs": []
    },
    {
      "cell_type": "code",
      "source": [
        "y_train"
      ],
      "metadata": {
        "id": "xSkWr40997M4"
      },
      "execution_count": null,
      "outputs": []
    },
    {
      "cell_type": "code",
      "source": [
        "x_train.shape, y_train.shape"
      ],
      "metadata": {
        "colab": {
          "base_uri": "https://localhost:8080/"
        },
        "id": "PTEa1AKaMAaD",
        "outputId": "8799c89d-5438-4b3b-d501-54c986653625"
      },
      "execution_count": null,
      "outputs": [
        {
          "output_type": "execute_result",
          "data": {
            "text/plain": [
              "((642, 11), (642,))"
            ]
          },
          "metadata": {},
          "execution_count": 24
        }
      ]
    },
    {
      "cell_type": "code",
      "source": [
        "x_teste.shape, y_teste.shape"
      ],
      "metadata": {
        "colab": {
          "base_uri": "https://localhost:8080/"
        },
        "id": "edQVA-o8MQNM",
        "outputId": "e0d0f21a-fc1f-4bdd-c47d-af723ac77e86"
      },
      "execution_count": null,
      "outputs": [
        {
          "output_type": "execute_result",
          "data": {
            "text/plain": [
              "((276, 11), (276,))"
            ]
          },
          "metadata": {},
          "execution_count": 25
        }
      ]
    },
    {
      "cell_type": "markdown",
      "source": [
        "##Naives Bayes 85.5%"
      ],
      "metadata": {
        "id": "00tG3mCSLHwp"
      }
    },
    {
      "cell_type": "code",
      "source": [
        "from sklearn.naive_bayes import GaussianNB\n",
        "naive = GaussianNB()\n",
        "naive.fit(x_train, y_train)\n",
        "forecast = naive.predict(x_teste)"
      ],
      "metadata": {
        "id": "_b7u6XPYLNk4"
      },
      "execution_count": null,
      "outputs": []
    },
    {
      "cell_type": "code",
      "source": [
        "from sklearn.metrics import accuracy_score, confusion_matrix, classification_report\n",
        "accuracy_score(y_teste, forecast) # Acuracia do naives"
      ],
      "metadata": {
        "id": "aEIB-sHKNhGp",
        "colab": {
          "base_uri": "https://localhost:8080/"
        },
        "outputId": "bee2402c-e83b-4e8b-e852-fa88f8d145e5"
      },
      "execution_count": null,
      "outputs": [
        {
          "output_type": "execute_result",
          "data": {
            "text/plain": [
              "0.8586956521739131"
            ]
          },
          "metadata": {},
          "execution_count": 27
        }
      ]
    },
    {
      "cell_type": "code",
      "source": [
        "confusion_matrix(y_teste, forecast) # Matriz de Confusão"
      ],
      "metadata": {
        "colab": {
          "base_uri": "https://localhost:8080/"
        },
        "id": "2au4MXL3Og-F",
        "outputId": "ff7ddab4-0b83-4abe-c60b-6263f5169fb9"
      },
      "execution_count": null,
      "outputs": [
        {
          "output_type": "execute_result",
          "data": {
            "text/plain": [
              "array([[ 93,  20],\n",
              "       [ 19, 144]])"
            ]
          },
          "metadata": {},
          "execution_count": 28
        }
      ]
    },
    {
      "cell_type": "code",
      "source": [
        "print(classification_report(y_teste, forecast))"
      ],
      "metadata": {
        "colab": {
          "base_uri": "https://localhost:8080/"
        },
        "id": "xhNelPY_O_Vp",
        "outputId": "87f760d5-1550-4150-abfb-43da10652a01"
      },
      "execution_count": null,
      "outputs": [
        {
          "output_type": "stream",
          "name": "stdout",
          "text": [
            "              precision    recall  f1-score   support\n",
            "\n",
            "           0       0.83      0.82      0.83       113\n",
            "           1       0.88      0.88      0.88       163\n",
            "\n",
            "    accuracy                           0.86       276\n",
            "   macro avg       0.85      0.85      0.85       276\n",
            "weighted avg       0.86      0.86      0.86       276\n",
            "\n"
          ]
        }
      ]
    },
    {
      "cell_type": "markdown",
      "source": [
        "##Árvore de decisão 85.5%"
      ],
      "metadata": {
        "id": "Fi3dGXnwPcxi"
      }
    },
    {
      "cell_type": "code",
      "source": [
        "from sklearn.tree import DecisionTreeClassifier\n",
        "arvore = DecisionTreeClassifier(criterion='entropy', random_state = 0)\n",
        "arvore.fit(x_train,y_train)\n",
        "forecast = arvore.predict(x_teste)"
      ],
      "metadata": {
        "id": "Xlyd0muLPhUZ"
      },
      "execution_count": null,
      "outputs": []
    },
    {
      "cell_type": "code",
      "source": [
        "from sklearn.metrics import accuracy_score, classification_report\n",
        "accuracy_score(y_teste, forecast)"
      ],
      "metadata": {
        "colab": {
          "base_uri": "https://localhost:8080/"
        },
        "id": "VuOSKtQPimtx",
        "outputId": "dd5ee07c-368d-46dc-fde7-7ece60d1b453"
      },
      "execution_count": null,
      "outputs": [
        {
          "output_type": "execute_result",
          "data": {
            "text/plain": [
              "0.8514492753623188"
            ]
          },
          "metadata": {},
          "execution_count": 33
        }
      ]
    },
    {
      "cell_type": "code",
      "source": [
        "confusion_matrix(y_teste, forecast)"
      ],
      "metadata": {
        "colab": {
          "base_uri": "https://localhost:8080/"
        },
        "id": "IhypYml7iveS",
        "outputId": "47577460-4796-43ba-e6c9-4aafe37de39d"
      },
      "execution_count": null,
      "outputs": [
        {
          "output_type": "execute_result",
          "data": {
            "text/plain": [
              "array([[ 94,  19],\n",
              "       [ 21, 142]])"
            ]
          },
          "metadata": {},
          "execution_count": 22
        }
      ]
    },
    {
      "cell_type": "code",
      "source": [
        "print(classification_report(y_teste, forecast))"
      ],
      "metadata": {
        "colab": {
          "base_uri": "https://localhost:8080/"
        },
        "id": "SJXJXPdbiy2v",
        "outputId": "24a67ffe-1229-4170-b940-756691b54806"
      },
      "execution_count": null,
      "outputs": [
        {
          "output_type": "stream",
          "name": "stdout",
          "text": [
            "              precision    recall  f1-score   support\n",
            "\n",
            "           0       0.82      0.83      0.82       113\n",
            "           1       0.88      0.87      0.88       163\n",
            "\n",
            "    accuracy                           0.86       276\n",
            "   macro avg       0.85      0.85      0.85       276\n",
            "weighted avg       0.86      0.86      0.86       276\n",
            "\n"
          ]
        }
      ]
    },
    {
      "cell_type": "markdown",
      "source": [
        "##Random Florest 85.1%"
      ],
      "metadata": {
        "id": "mpbRCm0ekHAe"
      }
    },
    {
      "cell_type": "code",
      "source": [
        "from sklearn.ensemble import RandomForestClassifier\n",
        "random_tree = RandomForestClassifier(n_estimators=45, criterion='entropy', random_state=0,)\n",
        "random_tree.fit(x_train,y_train)"
      ],
      "metadata": {
        "id": "n8lcOw53kOuV",
        "colab": {
          "base_uri": "https://localhost:8080/"
        },
        "outputId": "34f51ea6-0be6-42db-d184-7f13f641f788"
      },
      "execution_count": null,
      "outputs": [
        {
          "output_type": "execute_result",
          "data": {
            "text/plain": [
              "RandomForestClassifier(criterion='entropy', n_estimators=45, random_state=0)"
            ]
          },
          "metadata": {},
          "execution_count": 34
        }
      ]
    },
    {
      "cell_type": "code",
      "source": [
        "forecast = random_tree.predict(x_teste)"
      ],
      "metadata": {
        "id": "1MaR-DEkktzQ"
      },
      "execution_count": null,
      "outputs": []
    },
    {
      "cell_type": "code",
      "source": [
        "from sklearn.metrics import accuracy_score, classification_report\n",
        "accuracy_score(y_teste, forecast)"
      ],
      "metadata": {
        "colab": {
          "base_uri": "https://localhost:8080/"
        },
        "id": "MfFl8fquk91K",
        "outputId": "50620c3e-a200-4308-f00b-7b6469954060"
      },
      "execution_count": null,
      "outputs": [
        {
          "output_type": "execute_result",
          "data": {
            "text/plain": [
              "0.8442028985507246"
            ]
          },
          "metadata": {},
          "execution_count": 36
        }
      ]
    },
    {
      "cell_type": "code",
      "source": [
        "confusion_matrix(y_teste, forecast)"
      ],
      "metadata": {
        "colab": {
          "base_uri": "https://localhost:8080/"
        },
        "id": "CK8g9wi8lH3A",
        "outputId": "fca86752-019a-4b78-c661-49404b2fd0e4"
      },
      "execution_count": null,
      "outputs": [
        {
          "output_type": "execute_result",
          "data": {
            "text/plain": [
              "array([[ 89,  24],\n",
              "       [ 17, 146]])"
            ]
          },
          "metadata": {},
          "execution_count": 27
        }
      ]
    },
    {
      "cell_type": "code",
      "source": [
        "print(classification_report(y_teste, forecast))"
      ],
      "metadata": {
        "colab": {
          "base_uri": "https://localhost:8080/"
        },
        "id": "dKOT2-J4lEkJ",
        "outputId": "e8f51167-56f7-4474-bd17-532a91248756"
      },
      "execution_count": null,
      "outputs": [
        {
          "output_type": "stream",
          "name": "stdout",
          "text": [
            "              precision    recall  f1-score   support\n",
            "\n",
            "           0       0.84      0.79      0.81       113\n",
            "           1       0.86      0.90      0.88       163\n",
            "\n",
            "    accuracy                           0.85       276\n",
            "   macro avg       0.85      0.84      0.84       276\n",
            "weighted avg       0.85      0.85      0.85       276\n",
            "\n"
          ]
        }
      ]
    },
    {
      "cell_type": "markdown",
      "source": [
        "##Regressão logistica (S) 83.6%"
      ],
      "metadata": {
        "id": "Hlae7UdJdxjl"
      }
    },
    {
      "cell_type": "code",
      "source": [
        "from sklearn.linear_model import LogisticRegression\n",
        "logic = LogisticRegression(random_state = 0)\n",
        "logic.fit(x_train,y_train)\n",
        "forecast = logic.predict(x_teste)"
      ],
      "metadata": {
        "id": "zRoI8A9Jd1uj"
      },
      "execution_count": null,
      "outputs": []
    },
    {
      "cell_type": "code",
      "source": [
        "logic.intercept_ # Valor de B0"
      ],
      "metadata": {
        "colab": {
          "base_uri": "https://localhost:8080/"
        },
        "id": "60kU3kDkfm1z",
        "outputId": "1a76f888-0a90-4812-da53-8dddd993163f"
      },
      "execution_count": null,
      "outputs": [
        {
          "output_type": "execute_result",
          "data": {
            "text/plain": [
              "array([0.30464267])"
            ]
          },
          "metadata": {},
          "execution_count": 30
        }
      ]
    },
    {
      "cell_type": "code",
      "source": [
        "logic.coef_ # Coeficientes B1 B2 B3"
      ],
      "metadata": {
        "colab": {
          "base_uri": "https://localhost:8080/"
        },
        "id": "3IbkbTeAfxEU",
        "outputId": "951b477b-3f21-4c03-a6b6-e5cc8a6cfeeb"
      },
      "execution_count": null,
      "outputs": [
        {
          "output_type": "execute_result",
          "data": {
            "text/plain": [
              "array([[-0.28998726,  0.28998726,  0.51959171, -0.41537332, -0.22365663,\n",
              "        -0.01690961,  0.13881959, -0.00983777, -0.12951475, -0.21048549,\n",
              "         0.21048549, -0.00336955,  0.65920436, -0.66398521,  0.00121489,\n",
              "         0.17085032, -0.31761935,  0.54887098, -0.2197656 ,  0.36045673]])"
            ]
          },
          "metadata": {},
          "execution_count": 31
        }
      ]
    },
    {
      "cell_type": "code",
      "source": [
        "from sklearn.metrics import accuracy_score, classification_report, confusion_matrix\n",
        "accuracy_score(y_teste, forecast)"
      ],
      "metadata": {
        "colab": {
          "base_uri": "https://localhost:8080/"
        },
        "id": "okrbXRNYgDX8",
        "outputId": "18e8cdd3-d6d9-42b7-e9f5-aa384bdc8b22"
      },
      "execution_count": null,
      "outputs": [
        {
          "output_type": "execute_result",
          "data": {
            "text/plain": [
              "0.8405797101449275"
            ]
          },
          "metadata": {},
          "execution_count": 38
        }
      ]
    },
    {
      "cell_type": "code",
      "source": [
        "confusion_matrix(y_teste, forecast)"
      ],
      "metadata": {
        "colab": {
          "base_uri": "https://localhost:8080/"
        },
        "id": "9jXmReAJgFAx",
        "outputId": "10e9ffa2-04f8-4528-edb5-364e151c5dd3"
      },
      "execution_count": null,
      "outputs": [
        {
          "output_type": "execute_result",
          "data": {
            "text/plain": [
              "array([[ 87,  26],\n",
              "       [ 19, 144]])"
            ]
          },
          "metadata": {},
          "execution_count": 33
        }
      ]
    },
    {
      "cell_type": "code",
      "source": [
        "print(classification_report(y_teste, forecast))"
      ],
      "metadata": {
        "colab": {
          "base_uri": "https://localhost:8080/"
        },
        "id": "OJxDWW9OgGGe",
        "outputId": "02aafdaf-729f-422e-c8a8-7c579effd8f2"
      },
      "execution_count": null,
      "outputs": [
        {
          "output_type": "stream",
          "name": "stdout",
          "text": [
            "              precision    recall  f1-score   support\n",
            "\n",
            "           0       0.82      0.77      0.79       113\n",
            "           1       0.85      0.88      0.86       163\n",
            "\n",
            "    accuracy                           0.84       276\n",
            "   macro avg       0.83      0.83      0.83       276\n",
            "weighted avg       0.84      0.84      0.84       276\n",
            "\n"
          ]
        }
      ]
    },
    {
      "cell_type": "markdown",
      "source": [
        "##KNN 83.6%\n"
      ],
      "metadata": {
        "id": "Y4Jl1BkiWDOM"
      }
    },
    {
      "cell_type": "code",
      "source": [
        "from sklearn.neighbors import KNeighborsClassifier\n",
        "knn = KNeighborsClassifier(n_neighbors= 10)\n",
        "knn.fit(x_train, y_train)\n",
        "forecast = knn.predict(x_teste)"
      ],
      "metadata": {
        "id": "mfAPr2YxWFdd"
      },
      "execution_count": null,
      "outputs": []
    },
    {
      "cell_type": "code",
      "source": [
        "from sklearn.metrics import accuracy_score, classification_report, confusion_matrix\n",
        "accuracy_score(y_teste, forecast)"
      ],
      "metadata": {
        "id": "yUY3iKmoXgEp",
        "colab": {
          "base_uri": "https://localhost:8080/"
        },
        "outputId": "bce80992-d285-48e6-9c06-0e6d84c1db5a"
      },
      "execution_count": null,
      "outputs": [
        {
          "output_type": "execute_result",
          "data": {
            "text/plain": [
              "0.855072463768116"
            ]
          },
          "metadata": {},
          "execution_count": 40
        }
      ]
    },
    {
      "cell_type": "code",
      "source": [
        "confusion_matrix(y_teste, forecast)"
      ],
      "metadata": {
        "id": "qmA9u2PsXh4Y",
        "colab": {
          "base_uri": "https://localhost:8080/"
        },
        "outputId": "d0e56f44-50dc-4259-eaf2-7333d0721faf"
      },
      "execution_count": null,
      "outputs": [
        {
          "output_type": "execute_result",
          "data": {
            "text/plain": [
              "array([[ 88,  25],\n",
              "       [ 20, 143]])"
            ]
          },
          "metadata": {},
          "execution_count": 37
        }
      ]
    },
    {
      "cell_type": "code",
      "source": [
        "print(classification_report(y_teste, forecast))"
      ],
      "metadata": {
        "id": "uP5OSy2hXqCH",
        "colab": {
          "base_uri": "https://localhost:8080/"
        },
        "outputId": "bb5fcd8a-19ce-43e4-ab44-02dda3f4c5d2"
      },
      "execution_count": null,
      "outputs": [
        {
          "output_type": "stream",
          "name": "stdout",
          "text": [
            "              precision    recall  f1-score   support\n",
            "\n",
            "           0       0.81      0.78      0.80       113\n",
            "           1       0.85      0.88      0.86       163\n",
            "\n",
            "    accuracy                           0.84       276\n",
            "   macro avg       0.83      0.83      0.83       276\n",
            "weighted avg       0.84      0.84      0.84       276\n",
            "\n"
          ]
        }
      ]
    },
    {
      "cell_type": "code",
      "source": [],
      "metadata": {
        "id": "egI_LBRp3p3R"
      },
      "execution_count": null,
      "outputs": []
    },
    {
      "cell_type": "markdown",
      "source": [
        "## SVM 85.5%\n"
      ],
      "metadata": {
        "id": "TtGSlrT4vXTM"
      }
    },
    {
      "cell_type": "code",
      "source": [
        "from sklearn.svm import SVC\n",
        "svm = SVC(kernel = 'rbf', random_state = 0,) #'linear', 'poly', 'rbf', 'sigmoid', 'precomputed'\n",
        "svm.fit(x_train, y_train)\n",
        "forecast = svm.predict(x_teste)"
      ],
      "metadata": {
        "id": "0udH9CivvfGd"
      },
      "execution_count": null,
      "outputs": []
    },
    {
      "cell_type": "code",
      "source": [
        "from sklearn.metrics import accuracy_score, classification_report, confusion_matrix\n",
        "accuracy_score(y_teste, forecast)"
      ],
      "metadata": {
        "colab": {
          "base_uri": "https://localhost:8080/"
        },
        "id": "eZCDwQh9yE3_",
        "outputId": "229b3dc0-a90e-4c0a-9b0c-be618ef6b0ce"
      },
      "execution_count": null,
      "outputs": [
        {
          "output_type": "execute_result",
          "data": {
            "text/plain": [
              "0.8586956521739131"
            ]
          },
          "metadata": {},
          "execution_count": 43
        }
      ]
    },
    {
      "cell_type": "code",
      "source": [
        "confusion_matrix(y_teste, forecast)"
      ],
      "metadata": {
        "colab": {
          "base_uri": "https://localhost:8080/"
        },
        "id": "qaUyZImzyOOf",
        "outputId": "cc4c9ec1-a8f2-4359-b635-665622a09418"
      },
      "execution_count": null,
      "outputs": [
        {
          "output_type": "execute_result",
          "data": {
            "text/plain": [
              "array([[ 89,  24],\n",
              "       [ 16, 147]])"
            ]
          },
          "metadata": {},
          "execution_count": 41
        }
      ]
    },
    {
      "cell_type": "code",
      "source": [
        "print(classification_report(y_teste, forecast))"
      ],
      "metadata": {
        "id": "gg9Q-C4nySrV",
        "outputId": "4ec7afed-dcbc-4404-8637-a968a8a9c692",
        "colab": {
          "base_uri": "https://localhost:8080/"
        }
      },
      "execution_count": null,
      "outputs": [
        {
          "output_type": "stream",
          "name": "stdout",
          "text": [
            "              precision    recall  f1-score   support\n",
            "\n",
            "           0       0.85      0.79      0.82       113\n",
            "           1       0.86      0.90      0.88       163\n",
            "\n",
            "    accuracy                           0.86       276\n",
            "   macro avg       0.85      0.84      0.85       276\n",
            "weighted avg       0.85      0.86      0.85       276\n",
            "\n"
          ]
        }
      ]
    },
    {
      "cell_type": "markdown",
      "source": [
        "## Rede Neural 84.0%"
      ],
      "metadata": {
        "id": "8Fso2fCtvbVO"
      }
    },
    {
      "cell_type": "code",
      "source": [
        "from sklearn.neural_network import MLPClassifier"
      ],
      "metadata": {
        "id": "bd3-C1T4vdHw"
      },
      "execution_count": null,
      "outputs": []
    },
    {
      "cell_type": "code",
      "source": [
        "rede_neural = MLPClassifier(max_iter=3000, verbose=True,tol=0.0000010 , hidden_layer_sizes=(10,5))\n",
        "rede_neural.fit(x_train,y_train)"
      ],
      "metadata": {
        "id": "s9Pv7zmivf_S",
        "colab": {
          "base_uri": "https://localhost:8080/"
        },
        "outputId": "9f3e5ab7-e924-4f5d-e8e9-be2bfa770f58"
      },
      "execution_count": null,
      "outputs": [
        {
          "output_type": "stream",
          "name": "stdout",
          "text": [
            "Iteration 1, loss = 0.77155230\n",
            "Iteration 2, loss = 0.75408824\n",
            "Iteration 3, loss = 0.73714833\n",
            "Iteration 4, loss = 0.72007934\n",
            "Iteration 5, loss = 0.70339097\n",
            "Iteration 6, loss = 0.68702205\n",
            "Iteration 7, loss = 0.67064006\n",
            "Iteration 8, loss = 0.65504726\n",
            "Iteration 9, loss = 0.63992554\n",
            "Iteration 10, loss = 0.62478711\n",
            "Iteration 11, loss = 0.60989584\n",
            "Iteration 12, loss = 0.59590278\n",
            "Iteration 13, loss = 0.58242156\n",
            "Iteration 14, loss = 0.56911765\n",
            "Iteration 15, loss = 0.55660526\n",
            "Iteration 16, loss = 0.54446461\n",
            "Iteration 17, loss = 0.53330810\n",
            "Iteration 18, loss = 0.52273546\n",
            "Iteration 19, loss = 0.51213372\n",
            "Iteration 20, loss = 0.50309545\n",
            "Iteration 21, loss = 0.49388884\n",
            "Iteration 22, loss = 0.48578674\n",
            "Iteration 23, loss = 0.47809390\n",
            "Iteration 24, loss = 0.47058182\n",
            "Iteration 25, loss = 0.46361736\n",
            "Iteration 26, loss = 0.45742613\n",
            "Iteration 27, loss = 0.45149651\n",
            "Iteration 28, loss = 0.44612852\n",
            "Iteration 29, loss = 0.44108755\n",
            "Iteration 30, loss = 0.43630623\n",
            "Iteration 31, loss = 0.43210201\n",
            "Iteration 32, loss = 0.42794638\n",
            "Iteration 33, loss = 0.42393933\n",
            "Iteration 34, loss = 0.42031549\n",
            "Iteration 35, loss = 0.41678279\n",
            "Iteration 36, loss = 0.41330639\n",
            "Iteration 37, loss = 0.41005933\n",
            "Iteration 38, loss = 0.40698202\n",
            "Iteration 39, loss = 0.40412236\n",
            "Iteration 40, loss = 0.40124090\n",
            "Iteration 41, loss = 0.39851655\n",
            "Iteration 42, loss = 0.39588942\n",
            "Iteration 43, loss = 0.39343183\n",
            "Iteration 44, loss = 0.39107660\n",
            "Iteration 45, loss = 0.38881286\n",
            "Iteration 46, loss = 0.38673420\n",
            "Iteration 47, loss = 0.38463431\n",
            "Iteration 48, loss = 0.38264894\n",
            "Iteration 49, loss = 0.38082225\n",
            "Iteration 50, loss = 0.37905045\n",
            "Iteration 51, loss = 0.37742943\n",
            "Iteration 52, loss = 0.37570803\n",
            "Iteration 53, loss = 0.37403495\n",
            "Iteration 54, loss = 0.37243928\n",
            "Iteration 55, loss = 0.37099222\n",
            "Iteration 56, loss = 0.36943570\n",
            "Iteration 57, loss = 0.36799418\n",
            "Iteration 58, loss = 0.36655211\n",
            "Iteration 59, loss = 0.36531673\n",
            "Iteration 60, loss = 0.36404356\n",
            "Iteration 61, loss = 0.36278185\n",
            "Iteration 62, loss = 0.36158236\n",
            "Iteration 63, loss = 0.36046252\n",
            "Iteration 64, loss = 0.35925045\n",
            "Iteration 65, loss = 0.35816924\n",
            "Iteration 66, loss = 0.35706511\n",
            "Iteration 67, loss = 0.35591765\n",
            "Iteration 68, loss = 0.35478430\n",
            "Iteration 69, loss = 0.35368368\n",
            "Iteration 70, loss = 0.35251570\n",
            "Iteration 71, loss = 0.35140415\n",
            "Iteration 72, loss = 0.35031118\n",
            "Iteration 73, loss = 0.34916922\n",
            "Iteration 74, loss = 0.34797409\n",
            "Iteration 75, loss = 0.34685178\n",
            "Iteration 76, loss = 0.34579342\n",
            "Iteration 77, loss = 0.34482396\n",
            "Iteration 78, loss = 0.34373507\n",
            "Iteration 79, loss = 0.34281351\n",
            "Iteration 80, loss = 0.34182973\n",
            "Iteration 81, loss = 0.34089397\n",
            "Iteration 82, loss = 0.33998795\n",
            "Iteration 83, loss = 0.33901186\n",
            "Iteration 84, loss = 0.33811079\n",
            "Iteration 85, loss = 0.33715339\n",
            "Iteration 86, loss = 0.33618411\n",
            "Iteration 87, loss = 0.33527442\n",
            "Iteration 88, loss = 0.33439843\n",
            "Iteration 89, loss = 0.33346789\n",
            "Iteration 90, loss = 0.33268080\n",
            "Iteration 91, loss = 0.33182472\n",
            "Iteration 92, loss = 0.33107544\n",
            "Iteration 93, loss = 0.33028214\n",
            "Iteration 94, loss = 0.32943653\n",
            "Iteration 95, loss = 0.32860758\n",
            "Iteration 96, loss = 0.32793286\n",
            "Iteration 97, loss = 0.32695772\n",
            "Iteration 98, loss = 0.32617869\n",
            "Iteration 99, loss = 0.32547184\n",
            "Iteration 100, loss = 0.32467997\n",
            "Iteration 101, loss = 0.32394880\n",
            "Iteration 102, loss = 0.32319290\n",
            "Iteration 103, loss = 0.32250552\n",
            "Iteration 104, loss = 0.32169492\n",
            "Iteration 105, loss = 0.32093127\n",
            "Iteration 106, loss = 0.32021694\n",
            "Iteration 107, loss = 0.31946502\n",
            "Iteration 108, loss = 0.31873629\n",
            "Iteration 109, loss = 0.31806217\n",
            "Iteration 110, loss = 0.31730515\n",
            "Iteration 111, loss = 0.31656039\n",
            "Iteration 112, loss = 0.31587715\n",
            "Iteration 113, loss = 0.31510139\n",
            "Iteration 114, loss = 0.31447948\n",
            "Iteration 115, loss = 0.31375301\n",
            "Iteration 116, loss = 0.31313948\n",
            "Iteration 117, loss = 0.31246766\n",
            "Iteration 118, loss = 0.31172822\n",
            "Iteration 119, loss = 0.31112335\n",
            "Iteration 120, loss = 0.31036760\n",
            "Iteration 121, loss = 0.30966329\n",
            "Iteration 122, loss = 0.30904070\n",
            "Iteration 123, loss = 0.30828977\n",
            "Iteration 124, loss = 0.30763482\n",
            "Iteration 125, loss = 0.30709734\n",
            "Iteration 126, loss = 0.30634645\n",
            "Iteration 127, loss = 0.30566639\n",
            "Iteration 128, loss = 0.30502495\n",
            "Iteration 129, loss = 0.30441754\n",
            "Iteration 130, loss = 0.30380355\n",
            "Iteration 131, loss = 0.30328763\n",
            "Iteration 132, loss = 0.30265578\n",
            "Iteration 133, loss = 0.30203377\n",
            "Iteration 134, loss = 0.30154108\n",
            "Iteration 135, loss = 0.30088613\n",
            "Iteration 136, loss = 0.30021012\n",
            "Iteration 137, loss = 0.29959620\n",
            "Iteration 138, loss = 0.29890631\n",
            "Iteration 139, loss = 0.29840444\n",
            "Iteration 140, loss = 0.29783980\n",
            "Iteration 141, loss = 0.29719352\n",
            "Iteration 142, loss = 0.29651628\n",
            "Iteration 143, loss = 0.29599447\n",
            "Iteration 144, loss = 0.29539693\n",
            "Iteration 145, loss = 0.29474897\n",
            "Iteration 146, loss = 0.29429148\n",
            "Iteration 147, loss = 0.29362659\n",
            "Iteration 148, loss = 0.29304898\n",
            "Iteration 149, loss = 0.29252824\n",
            "Iteration 150, loss = 0.29198211\n",
            "Iteration 151, loss = 0.29137349\n",
            "Iteration 152, loss = 0.29079596\n",
            "Iteration 153, loss = 0.29029237\n",
            "Iteration 154, loss = 0.28977539\n",
            "Iteration 155, loss = 0.28942424\n",
            "Iteration 156, loss = 0.28893829\n",
            "Iteration 157, loss = 0.28853405\n",
            "Iteration 158, loss = 0.28796353\n",
            "Iteration 159, loss = 0.28745582\n",
            "Iteration 160, loss = 0.28702369\n",
            "Iteration 161, loss = 0.28650516\n",
            "Iteration 162, loss = 0.28590167\n",
            "Iteration 163, loss = 0.28541756\n",
            "Iteration 164, loss = 0.28484482\n",
            "Iteration 165, loss = 0.28447197\n",
            "Iteration 166, loss = 0.28395336\n",
            "Iteration 167, loss = 0.28352965\n",
            "Iteration 168, loss = 0.28303291\n",
            "Iteration 169, loss = 0.28254937\n",
            "Iteration 170, loss = 0.28212479\n",
            "Iteration 171, loss = 0.28157380\n",
            "Iteration 172, loss = 0.28115338\n",
            "Iteration 173, loss = 0.28073635\n",
            "Iteration 174, loss = 0.28028616\n",
            "Iteration 175, loss = 0.27977677\n",
            "Iteration 176, loss = 0.27928220\n",
            "Iteration 177, loss = 0.27891379\n",
            "Iteration 178, loss = 0.27867918\n",
            "Iteration 179, loss = 0.27822376\n",
            "Iteration 180, loss = 0.27785848\n",
            "Iteration 181, loss = 0.27738368\n",
            "Iteration 182, loss = 0.27687800\n",
            "Iteration 183, loss = 0.27635889\n",
            "Iteration 184, loss = 0.27594628\n",
            "Iteration 185, loss = 0.27548277\n",
            "Iteration 186, loss = 0.27512376\n",
            "Iteration 187, loss = 0.27462587\n",
            "Iteration 188, loss = 0.27433838\n",
            "Iteration 189, loss = 0.27391891\n",
            "Iteration 190, loss = 0.27350154\n",
            "Iteration 191, loss = 0.27305576\n",
            "Iteration 192, loss = 0.27277575\n",
            "Iteration 193, loss = 0.27233377\n",
            "Iteration 194, loss = 0.27191569\n",
            "Iteration 195, loss = 0.27158529\n",
            "Iteration 196, loss = 0.27122562\n",
            "Iteration 197, loss = 0.27087527\n",
            "Iteration 198, loss = 0.27036982\n",
            "Iteration 199, loss = 0.27012729\n",
            "Iteration 200, loss = 0.26981461\n",
            "Iteration 201, loss = 0.26952855\n",
            "Iteration 202, loss = 0.26923691\n",
            "Iteration 203, loss = 0.26896517\n",
            "Iteration 204, loss = 0.26859023\n",
            "Iteration 205, loss = 0.26812857\n",
            "Iteration 206, loss = 0.26773120\n",
            "Iteration 207, loss = 0.26734134\n",
            "Iteration 208, loss = 0.26708371\n",
            "Iteration 209, loss = 0.26677850\n",
            "Iteration 210, loss = 0.26643995\n",
            "Iteration 211, loss = 0.26616093\n",
            "Iteration 212, loss = 0.26583279\n",
            "Iteration 213, loss = 0.26544042\n",
            "Iteration 214, loss = 0.26507320\n",
            "Iteration 215, loss = 0.26475623\n",
            "Iteration 216, loss = 0.26444324\n",
            "Iteration 217, loss = 0.26413930\n",
            "Iteration 218, loss = 0.26388655\n",
            "Iteration 219, loss = 0.26360808\n",
            "Iteration 220, loss = 0.26330535\n",
            "Iteration 221, loss = 0.26302586\n",
            "Iteration 222, loss = 0.26270309\n",
            "Iteration 223, loss = 0.26236357\n",
            "Iteration 224, loss = 0.26203924\n",
            "Iteration 225, loss = 0.26179285\n",
            "Iteration 226, loss = 0.26146185\n",
            "Iteration 227, loss = 0.26121071\n",
            "Iteration 228, loss = 0.26086668\n",
            "Iteration 229, loss = 0.26059329\n",
            "Iteration 230, loss = 0.26031129\n",
            "Iteration 231, loss = 0.26005855\n",
            "Iteration 232, loss = 0.25980334\n",
            "Iteration 233, loss = 0.25959748\n",
            "Iteration 234, loss = 0.25933677\n",
            "Iteration 235, loss = 0.25900836\n",
            "Iteration 236, loss = 0.25875596\n",
            "Iteration 237, loss = 0.25851195\n",
            "Iteration 238, loss = 0.25836395\n",
            "Iteration 239, loss = 0.25796802\n",
            "Iteration 240, loss = 0.25778199\n",
            "Iteration 241, loss = 0.25748262\n",
            "Iteration 242, loss = 0.25730863\n",
            "Iteration 243, loss = 0.25703212\n",
            "Iteration 244, loss = 0.25681029\n",
            "Iteration 245, loss = 0.25652293\n",
            "Iteration 246, loss = 0.25630427\n",
            "Iteration 247, loss = 0.25603728\n",
            "Iteration 248, loss = 0.25586542\n",
            "Iteration 249, loss = 0.25557144\n",
            "Iteration 250, loss = 0.25537008\n",
            "Iteration 251, loss = 0.25513760\n",
            "Iteration 252, loss = 0.25488430\n",
            "Iteration 253, loss = 0.25462726\n",
            "Iteration 254, loss = 0.25444107\n",
            "Iteration 255, loss = 0.25423027\n",
            "Iteration 256, loss = 0.25400594\n",
            "Iteration 257, loss = 0.25372357\n",
            "Iteration 258, loss = 0.25355536\n",
            "Iteration 259, loss = 0.25324577\n",
            "Iteration 260, loss = 0.25306768\n",
            "Iteration 261, loss = 0.25282547\n",
            "Iteration 262, loss = 0.25256531\n",
            "Iteration 263, loss = 0.25237562\n",
            "Iteration 264, loss = 0.25214179\n",
            "Iteration 265, loss = 0.25189146\n",
            "Iteration 266, loss = 0.25169434\n",
            "Iteration 267, loss = 0.25147774\n",
            "Iteration 268, loss = 0.25131940\n",
            "Iteration 269, loss = 0.25104418\n",
            "Iteration 270, loss = 0.25082167\n",
            "Iteration 271, loss = 0.25064010\n",
            "Iteration 272, loss = 0.25044456\n",
            "Iteration 273, loss = 0.25022234\n",
            "Iteration 274, loss = 0.24996388\n",
            "Iteration 275, loss = 0.24972499\n",
            "Iteration 276, loss = 0.24951319\n",
            "Iteration 277, loss = 0.24925340\n",
            "Iteration 278, loss = 0.24912878\n",
            "Iteration 279, loss = 0.24887396\n",
            "Iteration 280, loss = 0.24871807\n",
            "Iteration 281, loss = 0.24841521\n",
            "Iteration 282, loss = 0.24832556\n",
            "Iteration 283, loss = 0.24799975\n",
            "Iteration 284, loss = 0.24771451\n",
            "Iteration 285, loss = 0.24758169\n",
            "Iteration 286, loss = 0.24727092\n",
            "Iteration 287, loss = 0.24711530\n",
            "Iteration 288, loss = 0.24689780\n",
            "Iteration 289, loss = 0.24679562\n",
            "Iteration 290, loss = 0.24672188\n",
            "Iteration 291, loss = 0.24632224\n",
            "Iteration 292, loss = 0.24594752\n",
            "Iteration 293, loss = 0.24578277\n",
            "Iteration 294, loss = 0.24560835\n",
            "Iteration 295, loss = 0.24541225\n",
            "Iteration 296, loss = 0.24505704\n",
            "Iteration 297, loss = 0.24490225\n",
            "Iteration 298, loss = 0.24455148\n",
            "Iteration 299, loss = 0.24436535\n",
            "Iteration 300, loss = 0.24433177\n",
            "Iteration 301, loss = 0.24398075\n",
            "Iteration 302, loss = 0.24377623\n",
            "Iteration 303, loss = 0.24355570\n",
            "Iteration 304, loss = 0.24324389\n",
            "Iteration 305, loss = 0.24297362\n",
            "Iteration 306, loss = 0.24267635\n",
            "Iteration 307, loss = 0.24240982\n",
            "Iteration 308, loss = 0.24223150\n",
            "Iteration 309, loss = 0.24200634\n",
            "Iteration 310, loss = 0.24195720\n",
            "Iteration 311, loss = 0.24183807\n",
            "Iteration 312, loss = 0.24160023\n",
            "Iteration 313, loss = 0.24130858\n",
            "Iteration 314, loss = 0.24100138\n",
            "Iteration 315, loss = 0.24080634\n",
            "Iteration 316, loss = 0.24060373\n",
            "Iteration 317, loss = 0.24030027\n",
            "Iteration 318, loss = 0.23998520\n",
            "Iteration 319, loss = 0.23977866\n",
            "Iteration 320, loss = 0.23953705\n",
            "Iteration 321, loss = 0.23928131\n",
            "Iteration 322, loss = 0.23910953\n",
            "Iteration 323, loss = 0.23894040\n",
            "Iteration 324, loss = 0.23864883\n",
            "Iteration 325, loss = 0.23845486\n",
            "Iteration 326, loss = 0.23819026\n",
            "Iteration 327, loss = 0.23800584\n",
            "Iteration 328, loss = 0.23785676\n",
            "Iteration 329, loss = 0.23752235\n",
            "Iteration 330, loss = 0.23728843\n",
            "Iteration 331, loss = 0.23711960\n",
            "Iteration 332, loss = 0.23684393\n",
            "Iteration 333, loss = 0.23665888\n",
            "Iteration 334, loss = 0.23648035\n",
            "Iteration 335, loss = 0.23627195\n",
            "Iteration 336, loss = 0.23602781\n",
            "Iteration 337, loss = 0.23591167\n",
            "Iteration 338, loss = 0.23566297\n",
            "Iteration 339, loss = 0.23550196\n",
            "Iteration 340, loss = 0.23534812\n",
            "Iteration 341, loss = 0.23508000\n",
            "Iteration 342, loss = 0.23492158\n",
            "Iteration 343, loss = 0.23466368\n",
            "Iteration 344, loss = 0.23458290\n",
            "Iteration 345, loss = 0.23440811\n",
            "Iteration 346, loss = 0.23432854\n",
            "Iteration 347, loss = 0.23423531\n",
            "Iteration 348, loss = 0.23389320\n",
            "Iteration 349, loss = 0.23371646\n",
            "Iteration 350, loss = 0.23361412\n",
            "Iteration 351, loss = 0.23342684\n",
            "Iteration 352, loss = 0.23321387\n",
            "Iteration 353, loss = 0.23305858\n",
            "Iteration 354, loss = 0.23287348\n",
            "Iteration 355, loss = 0.23274534\n",
            "Iteration 356, loss = 0.23264184\n",
            "Iteration 357, loss = 0.23258039\n",
            "Iteration 358, loss = 0.23242261\n",
            "Iteration 359, loss = 0.23220624\n",
            "Iteration 360, loss = 0.23209936\n",
            "Iteration 361, loss = 0.23195975\n",
            "Iteration 362, loss = 0.23181677\n",
            "Iteration 363, loss = 0.23172111\n",
            "Iteration 364, loss = 0.23156009\n",
            "Iteration 365, loss = 0.23131781\n",
            "Iteration 366, loss = 0.23127469\n",
            "Iteration 367, loss = 0.23118469\n",
            "Iteration 368, loss = 0.23119591\n",
            "Iteration 369, loss = 0.23095746\n",
            "Iteration 370, loss = 0.23072617\n",
            "Iteration 371, loss = 0.23063292\n",
            "Iteration 372, loss = 0.23040368\n",
            "Iteration 373, loss = 0.23017669\n",
            "Iteration 374, loss = 0.22998838\n",
            "Iteration 375, loss = 0.23000235\n",
            "Iteration 376, loss = 0.22989676\n",
            "Iteration 377, loss = 0.22984939\n",
            "Iteration 378, loss = 0.22984574\n",
            "Iteration 379, loss = 0.22972152\n",
            "Iteration 380, loss = 0.22959906\n",
            "Iteration 381, loss = 0.22932265\n",
            "Iteration 382, loss = 0.22920390\n",
            "Iteration 383, loss = 0.22908188\n",
            "Iteration 384, loss = 0.22881294\n",
            "Iteration 385, loss = 0.22849295\n",
            "Iteration 386, loss = 0.22836367\n",
            "Iteration 387, loss = 0.22819658\n",
            "Iteration 388, loss = 0.22807178\n",
            "Iteration 389, loss = 0.22790457\n",
            "Iteration 390, loss = 0.22771471\n",
            "Iteration 391, loss = 0.22758768\n",
            "Iteration 392, loss = 0.22747944\n",
            "Iteration 393, loss = 0.22736026\n",
            "Iteration 394, loss = 0.22720631\n",
            "Iteration 395, loss = 0.22714499\n",
            "Iteration 396, loss = 0.22690414\n",
            "Iteration 397, loss = 0.22677913\n",
            "Iteration 398, loss = 0.22661872\n",
            "Iteration 399, loss = 0.22648969\n",
            "Iteration 400, loss = 0.22644851\n",
            "Iteration 401, loss = 0.22624545\n",
            "Iteration 402, loss = 0.22595485\n",
            "Iteration 403, loss = 0.22584874\n",
            "Iteration 404, loss = 0.22567610\n",
            "Iteration 405, loss = 0.22553214\n",
            "Iteration 406, loss = 0.22558870\n",
            "Iteration 407, loss = 0.22546388\n",
            "Iteration 408, loss = 0.22539583\n",
            "Iteration 409, loss = 0.22524909\n",
            "Iteration 410, loss = 0.22504003\n",
            "Iteration 411, loss = 0.22486072\n",
            "Iteration 412, loss = 0.22463737\n",
            "Iteration 413, loss = 0.22453059\n",
            "Iteration 414, loss = 0.22455351\n",
            "Iteration 415, loss = 0.22419130\n",
            "Iteration 416, loss = 0.22416911\n",
            "Iteration 417, loss = 0.22388792\n",
            "Iteration 418, loss = 0.22367599\n",
            "Iteration 419, loss = 0.22353414\n",
            "Iteration 420, loss = 0.22338229\n",
            "Iteration 421, loss = 0.22326616\n",
            "Iteration 422, loss = 0.22327169\n",
            "Iteration 423, loss = 0.22329422\n",
            "Iteration 424, loss = 0.22319942\n",
            "Iteration 425, loss = 0.22298555\n",
            "Iteration 426, loss = 0.22267857\n",
            "Iteration 427, loss = 0.22255347\n",
            "Iteration 428, loss = 0.22240766\n",
            "Iteration 429, loss = 0.22230452\n",
            "Iteration 430, loss = 0.22219783\n",
            "Iteration 431, loss = 0.22209335\n",
            "Iteration 432, loss = 0.22195972\n",
            "Iteration 433, loss = 0.22185735\n",
            "Iteration 434, loss = 0.22171773\n",
            "Iteration 435, loss = 0.22167851\n",
            "Iteration 436, loss = 0.22145465\n",
            "Iteration 437, loss = 0.22139729\n",
            "Iteration 438, loss = 0.22132515\n",
            "Iteration 439, loss = 0.22126544\n",
            "Iteration 440, loss = 0.22112951\n",
            "Iteration 441, loss = 0.22087938\n",
            "Iteration 442, loss = 0.22070122\n",
            "Iteration 443, loss = 0.22059156\n",
            "Iteration 444, loss = 0.22053086\n",
            "Iteration 445, loss = 0.22045769\n",
            "Iteration 446, loss = 0.22022064\n",
            "Iteration 447, loss = 0.22006911\n",
            "Iteration 448, loss = 0.22015546\n",
            "Iteration 449, loss = 0.21995367\n",
            "Iteration 450, loss = 0.21989973\n",
            "Iteration 451, loss = 0.21987301\n",
            "Iteration 452, loss = 0.22017248\n",
            "Iteration 453, loss = 0.22002828\n",
            "Iteration 454, loss = 0.21980947\n",
            "Iteration 455, loss = 0.21974131\n",
            "Iteration 456, loss = 0.21939566\n",
            "Iteration 457, loss = 0.21917846\n",
            "Iteration 458, loss = 0.21923312\n",
            "Iteration 459, loss = 0.21881477\n",
            "Iteration 460, loss = 0.21864137\n",
            "Iteration 461, loss = 0.21858088\n",
            "Iteration 462, loss = 0.21841051\n",
            "Iteration 463, loss = 0.21880135\n",
            "Iteration 464, loss = 0.21858482\n",
            "Iteration 465, loss = 0.21846615\n",
            "Iteration 466, loss = 0.21833229\n",
            "Iteration 467, loss = 0.21821591\n",
            "Iteration 468, loss = 0.21802353\n",
            "Iteration 469, loss = 0.21800860\n",
            "Iteration 470, loss = 0.21793960\n",
            "Iteration 471, loss = 0.21774106\n",
            "Iteration 472, loss = 0.21752041\n",
            "Iteration 473, loss = 0.21740674\n",
            "Iteration 474, loss = 0.21732232\n",
            "Iteration 475, loss = 0.21709216\n",
            "Iteration 476, loss = 0.21708567\n",
            "Iteration 477, loss = 0.21702789\n",
            "Iteration 478, loss = 0.21698699\n",
            "Iteration 479, loss = 0.21679426\n",
            "Iteration 480, loss = 0.21671575\n",
            "Iteration 481, loss = 0.21655420\n",
            "Iteration 482, loss = 0.21641035\n",
            "Iteration 483, loss = 0.21631420\n",
            "Iteration 484, loss = 0.21617267\n",
            "Iteration 485, loss = 0.21626083\n",
            "Iteration 486, loss = 0.21616441\n",
            "Iteration 487, loss = 0.21601149\n",
            "Iteration 488, loss = 0.21611533\n",
            "Iteration 489, loss = 0.21615449\n",
            "Iteration 490, loss = 0.21608443\n",
            "Iteration 491, loss = 0.21607263\n",
            "Iteration 492, loss = 0.21597196\n",
            "Iteration 493, loss = 0.21581309\n",
            "Iteration 494, loss = 0.21562762\n",
            "Iteration 495, loss = 0.21547752\n",
            "Iteration 496, loss = 0.21526582\n",
            "Iteration 497, loss = 0.21511594\n",
            "Iteration 498, loss = 0.21495816\n",
            "Iteration 499, loss = 0.21484851\n",
            "Iteration 500, loss = 0.21475308\n",
            "Iteration 501, loss = 0.21458166\n",
            "Iteration 502, loss = 0.21463198\n",
            "Iteration 503, loss = 0.21432293\n",
            "Iteration 504, loss = 0.21455357\n",
            "Iteration 505, loss = 0.21455204\n",
            "Iteration 506, loss = 0.21462539\n",
            "Iteration 507, loss = 0.21443423\n",
            "Iteration 508, loss = 0.21438311\n",
            "Iteration 509, loss = 0.21442681\n",
            "Iteration 510, loss = 0.21404656\n",
            "Iteration 511, loss = 0.21408619\n",
            "Iteration 512, loss = 0.21398381\n",
            "Iteration 513, loss = 0.21377780\n",
            "Iteration 514, loss = 0.21372728\n",
            "Iteration 515, loss = 0.21385818\n",
            "Iteration 516, loss = 0.21379584\n",
            "Iteration 517, loss = 0.21380876\n",
            "Iteration 518, loss = 0.21377609\n",
            "Iteration 519, loss = 0.21338373\n",
            "Iteration 520, loss = 0.21314201\n",
            "Iteration 521, loss = 0.21317275\n",
            "Iteration 522, loss = 0.21291809\n",
            "Iteration 523, loss = 0.21283231\n",
            "Iteration 524, loss = 0.21278673\n",
            "Iteration 525, loss = 0.21270549\n",
            "Iteration 526, loss = 0.21259390\n",
            "Iteration 527, loss = 0.21251110\n",
            "Iteration 528, loss = 0.21250343\n",
            "Iteration 529, loss = 0.21243944\n",
            "Iteration 530, loss = 0.21229388\n",
            "Iteration 531, loss = 0.21233715\n",
            "Iteration 532, loss = 0.21215831\n",
            "Iteration 533, loss = 0.21205152\n",
            "Iteration 534, loss = 0.21199583\n",
            "Iteration 535, loss = 0.21193221\n",
            "Iteration 536, loss = 0.21177334\n",
            "Iteration 537, loss = 0.21167451\n",
            "Iteration 538, loss = 0.21162373\n",
            "Iteration 539, loss = 0.21153878\n",
            "Iteration 540, loss = 0.21150769\n",
            "Iteration 541, loss = 0.21158517\n",
            "Iteration 542, loss = 0.21146659\n",
            "Iteration 543, loss = 0.21128445\n",
            "Iteration 544, loss = 0.21109185\n",
            "Iteration 545, loss = 0.21130459\n",
            "Iteration 546, loss = 0.21095383\n",
            "Iteration 547, loss = 0.21108331\n",
            "Iteration 548, loss = 0.21108066\n",
            "Iteration 549, loss = 0.21102227\n",
            "Iteration 550, loss = 0.21093218\n",
            "Iteration 551, loss = 0.21094244\n",
            "Iteration 552, loss = 0.21081441\n",
            "Iteration 553, loss = 0.21076516\n",
            "Iteration 554, loss = 0.21062481\n",
            "Iteration 555, loss = 0.21030764\n",
            "Iteration 556, loss = 0.21015725\n",
            "Iteration 557, loss = 0.21029818\n",
            "Iteration 558, loss = 0.21030515\n",
            "Iteration 559, loss = 0.21020493\n",
            "Iteration 560, loss = 0.21011944\n",
            "Iteration 561, loss = 0.20988169\n",
            "Iteration 562, loss = 0.20992479\n",
            "Iteration 563, loss = 0.20965797\n",
            "Iteration 564, loss = 0.20954553\n",
            "Iteration 565, loss = 0.20945084\n",
            "Iteration 566, loss = 0.20937621\n",
            "Iteration 567, loss = 0.20927732\n",
            "Iteration 568, loss = 0.20938350\n",
            "Iteration 569, loss = 0.20940674\n",
            "Iteration 570, loss = 0.20941476\n",
            "Iteration 571, loss = 0.20938729\n",
            "Iteration 572, loss = 0.20918686\n",
            "Iteration 573, loss = 0.20894684\n",
            "Iteration 574, loss = 0.20876725\n",
            "Iteration 575, loss = 0.20882176\n",
            "Iteration 576, loss = 0.20859183\n",
            "Iteration 577, loss = 0.20860466\n",
            "Iteration 578, loss = 0.20853314\n",
            "Iteration 579, loss = 0.20844488\n",
            "Iteration 580, loss = 0.20870564\n",
            "Iteration 581, loss = 0.20845260\n",
            "Iteration 582, loss = 0.20831187\n",
            "Iteration 583, loss = 0.20823215\n",
            "Iteration 584, loss = 0.20803395\n",
            "Iteration 585, loss = 0.20796775\n",
            "Iteration 586, loss = 0.20791212\n",
            "Iteration 587, loss = 0.20782748\n",
            "Iteration 588, loss = 0.20775463\n",
            "Iteration 589, loss = 0.20747871\n",
            "Iteration 590, loss = 0.20799265\n",
            "Iteration 591, loss = 0.20772529\n",
            "Iteration 592, loss = 0.20767494\n",
            "Iteration 593, loss = 0.20765669\n",
            "Iteration 594, loss = 0.20756285\n",
            "Iteration 595, loss = 0.20744465\n",
            "Iteration 596, loss = 0.20733070\n",
            "Iteration 597, loss = 0.20721296\n",
            "Iteration 598, loss = 0.20714342\n",
            "Iteration 599, loss = 0.20711293\n",
            "Iteration 600, loss = 0.20690011\n",
            "Iteration 601, loss = 0.20681024\n",
            "Iteration 602, loss = 0.20686275\n",
            "Iteration 603, loss = 0.20667957\n",
            "Iteration 604, loss = 0.20673638\n",
            "Iteration 605, loss = 0.20650700\n",
            "Iteration 606, loss = 0.20647173\n",
            "Iteration 607, loss = 0.20636412\n",
            "Iteration 608, loss = 0.20603415\n",
            "Iteration 609, loss = 0.20625360\n",
            "Iteration 610, loss = 0.20612745\n",
            "Iteration 611, loss = 0.20614716\n",
            "Iteration 612, loss = 0.20603356\n",
            "Iteration 613, loss = 0.20595383\n",
            "Iteration 614, loss = 0.20585150\n",
            "Iteration 615, loss = 0.20570883\n",
            "Iteration 616, loss = 0.20552699\n",
            "Iteration 617, loss = 0.20539402\n",
            "Iteration 618, loss = 0.20533711\n",
            "Iteration 619, loss = 0.20511176\n",
            "Iteration 620, loss = 0.20509417\n",
            "Iteration 621, loss = 0.20517374\n",
            "Iteration 622, loss = 0.20504741\n",
            "Iteration 623, loss = 0.20519437\n",
            "Iteration 624, loss = 0.20506895\n",
            "Iteration 625, loss = 0.20491329\n",
            "Iteration 626, loss = 0.20464543\n",
            "Iteration 627, loss = 0.20453630\n",
            "Iteration 628, loss = 0.20470325\n",
            "Iteration 629, loss = 0.20439457\n",
            "Iteration 630, loss = 0.20437018\n",
            "Iteration 631, loss = 0.20435396\n",
            "Iteration 632, loss = 0.20402104\n",
            "Iteration 633, loss = 0.20400648\n",
            "Iteration 634, loss = 0.20389219\n",
            "Iteration 635, loss = 0.20383197\n",
            "Iteration 636, loss = 0.20364729\n",
            "Iteration 637, loss = 0.20385347\n",
            "Iteration 638, loss = 0.20359472\n",
            "Iteration 639, loss = 0.20360303\n",
            "Iteration 640, loss = 0.20352844\n",
            "Iteration 641, loss = 0.20330303\n",
            "Iteration 642, loss = 0.20336542\n",
            "Iteration 643, loss = 0.20331245\n",
            "Iteration 644, loss = 0.20349871\n",
            "Iteration 645, loss = 0.20331428\n",
            "Iteration 646, loss = 0.20327092\n",
            "Iteration 647, loss = 0.20320037\n",
            "Iteration 648, loss = 0.20315383\n",
            "Iteration 649, loss = 0.20296688\n",
            "Iteration 650, loss = 0.20280080\n",
            "Iteration 651, loss = 0.20267326\n",
            "Iteration 652, loss = 0.20248876\n",
            "Iteration 653, loss = 0.20239465\n",
            "Iteration 654, loss = 0.20237482\n",
            "Iteration 655, loss = 0.20220476\n",
            "Iteration 656, loss = 0.20215350\n",
            "Iteration 657, loss = 0.20219640\n",
            "Iteration 658, loss = 0.20208145\n",
            "Iteration 659, loss = 0.20200744\n",
            "Iteration 660, loss = 0.20219681\n",
            "Iteration 661, loss = 0.20212679\n",
            "Iteration 662, loss = 0.20193757\n",
            "Iteration 663, loss = 0.20196019\n",
            "Iteration 664, loss = 0.20179171\n",
            "Iteration 665, loss = 0.20178452\n",
            "Iteration 666, loss = 0.20168635\n",
            "Iteration 667, loss = 0.20163507\n",
            "Iteration 668, loss = 0.20115603\n",
            "Iteration 669, loss = 0.20123000\n",
            "Iteration 670, loss = 0.20145752\n",
            "Iteration 671, loss = 0.20131165\n",
            "Iteration 672, loss = 0.20124147\n",
            "Iteration 673, loss = 0.20097821\n",
            "Iteration 674, loss = 0.20099773\n",
            "Iteration 675, loss = 0.20093074\n",
            "Iteration 676, loss = 0.20087838\n",
            "Iteration 677, loss = 0.20083384\n",
            "Iteration 678, loss = 0.20074410\n",
            "Iteration 679, loss = 0.20074450\n",
            "Iteration 680, loss = 0.20055507\n",
            "Iteration 681, loss = 0.20060255\n",
            "Iteration 682, loss = 0.20073598\n",
            "Iteration 683, loss = 0.20080279\n",
            "Iteration 684, loss = 0.20076023\n",
            "Iteration 685, loss = 0.20080747\n",
            "Iteration 686, loss = 0.20049934\n",
            "Iteration 687, loss = 0.20035326\n",
            "Iteration 688, loss = 0.20016626\n",
            "Iteration 689, loss = 0.20010109\n",
            "Iteration 690, loss = 0.20000134\n",
            "Iteration 691, loss = 0.19983630\n",
            "Iteration 692, loss = 0.19973477\n",
            "Iteration 693, loss = 0.19962941\n",
            "Iteration 694, loss = 0.19999167\n",
            "Iteration 695, loss = 0.19989518\n",
            "Iteration 696, loss = 0.19986399\n",
            "Iteration 697, loss = 0.19964814\n",
            "Iteration 698, loss = 0.19937241\n",
            "Iteration 699, loss = 0.19927215\n",
            "Iteration 700, loss = 0.19918046\n",
            "Iteration 701, loss = 0.19916969\n",
            "Iteration 702, loss = 0.19906074\n",
            "Iteration 703, loss = 0.19910667\n",
            "Iteration 704, loss = 0.19910079\n",
            "Iteration 705, loss = 0.19898227\n",
            "Iteration 706, loss = 0.19900132\n",
            "Iteration 707, loss = 0.19864113\n",
            "Iteration 708, loss = 0.19860100\n",
            "Iteration 709, loss = 0.19869132\n",
            "Iteration 710, loss = 0.19871510\n",
            "Iteration 711, loss = 0.19866216\n",
            "Iteration 712, loss = 0.19847573\n",
            "Iteration 713, loss = 0.19843484\n",
            "Iteration 714, loss = 0.19828329\n",
            "Iteration 715, loss = 0.19815768\n",
            "Iteration 716, loss = 0.19811816\n",
            "Iteration 717, loss = 0.19791615\n",
            "Iteration 718, loss = 0.19808540\n",
            "Iteration 719, loss = 0.19809063\n",
            "Iteration 720, loss = 0.19786841\n",
            "Iteration 721, loss = 0.19776563\n",
            "Iteration 722, loss = 0.19771622\n",
            "Iteration 723, loss = 0.19761123\n",
            "Iteration 724, loss = 0.19766632\n",
            "Iteration 725, loss = 0.19753049\n",
            "Iteration 726, loss = 0.19743735\n",
            "Iteration 727, loss = 0.19754457\n",
            "Iteration 728, loss = 0.19747218\n",
            "Iteration 729, loss = 0.19728533\n",
            "Iteration 730, loss = 0.19727518\n",
            "Iteration 731, loss = 0.19736312\n",
            "Iteration 732, loss = 0.19730742\n",
            "Iteration 733, loss = 0.19730800\n",
            "Iteration 734, loss = 0.19729408\n",
            "Iteration 735, loss = 0.19721356\n",
            "Iteration 736, loss = 0.19719539\n",
            "Iteration 737, loss = 0.19694054\n",
            "Iteration 738, loss = 0.19694786\n",
            "Iteration 739, loss = 0.19683814\n",
            "Iteration 740, loss = 0.19686289\n",
            "Iteration 741, loss = 0.19681857\n",
            "Iteration 742, loss = 0.19659768\n",
            "Iteration 743, loss = 0.19652786\n",
            "Iteration 744, loss = 0.19630781\n",
            "Iteration 745, loss = 0.19649286\n",
            "Iteration 746, loss = 0.19612676\n",
            "Iteration 747, loss = 0.19611099\n",
            "Iteration 748, loss = 0.19614688\n",
            "Iteration 749, loss = 0.19588103\n",
            "Iteration 750, loss = 0.19583442\n",
            "Iteration 751, loss = 0.19607368\n",
            "Iteration 752, loss = 0.19602195\n",
            "Iteration 753, loss = 0.19625783\n",
            "Iteration 754, loss = 0.19641560\n",
            "Iteration 755, loss = 0.19648308\n",
            "Iteration 756, loss = 0.19606564\n",
            "Iteration 757, loss = 0.19587441\n",
            "Iteration 758, loss = 0.19567520\n",
            "Iteration 759, loss = 0.19565623\n",
            "Iteration 760, loss = 0.19530017\n",
            "Iteration 761, loss = 0.19518370\n",
            "Iteration 762, loss = 0.19498222\n",
            "Iteration 763, loss = 0.19506325\n",
            "Iteration 764, loss = 0.19505858\n",
            "Iteration 765, loss = 0.19512936\n",
            "Iteration 766, loss = 0.19505611\n",
            "Iteration 767, loss = 0.19484121\n",
            "Iteration 768, loss = 0.19468806\n",
            "Iteration 769, loss = 0.19482892\n",
            "Iteration 770, loss = 0.19494661\n",
            "Iteration 771, loss = 0.19492797\n",
            "Iteration 772, loss = 0.19459783\n",
            "Iteration 773, loss = 0.19452966\n",
            "Iteration 774, loss = 0.19426642\n",
            "Iteration 775, loss = 0.19418692\n",
            "Iteration 776, loss = 0.19408776\n",
            "Iteration 777, loss = 0.19398803\n",
            "Iteration 778, loss = 0.19388000\n",
            "Iteration 779, loss = 0.19382502\n",
            "Iteration 780, loss = 0.19395880\n",
            "Iteration 781, loss = 0.19371644\n",
            "Iteration 782, loss = 0.19369745\n",
            "Iteration 783, loss = 0.19375965\n",
            "Iteration 784, loss = 0.19363060\n",
            "Iteration 785, loss = 0.19356839\n",
            "Iteration 786, loss = 0.19340390\n",
            "Iteration 787, loss = 0.19321633\n",
            "Iteration 788, loss = 0.19302753\n",
            "Iteration 789, loss = 0.19296202\n",
            "Iteration 790, loss = 0.19290587\n",
            "Iteration 791, loss = 0.19307858\n",
            "Iteration 792, loss = 0.19309307\n",
            "Iteration 793, loss = 0.19299072\n",
            "Iteration 794, loss = 0.19294786\n",
            "Iteration 795, loss = 0.19260770\n",
            "Iteration 796, loss = 0.19262502\n",
            "Iteration 797, loss = 0.19254027\n",
            "Iteration 798, loss = 0.19255709\n",
            "Iteration 799, loss = 0.19229929\n",
            "Iteration 800, loss = 0.19222042\n",
            "Iteration 801, loss = 0.19215130\n",
            "Iteration 802, loss = 0.19203108\n",
            "Iteration 803, loss = 0.19228714\n",
            "Iteration 804, loss = 0.19204540\n",
            "Iteration 805, loss = 0.19203667\n",
            "Iteration 806, loss = 0.19189373\n",
            "Iteration 807, loss = 0.19174992\n",
            "Iteration 808, loss = 0.19168176\n",
            "Iteration 809, loss = 0.19151666\n",
            "Iteration 810, loss = 0.19151351\n",
            "Iteration 811, loss = 0.19196767\n",
            "Iteration 812, loss = 0.19191350\n",
            "Iteration 813, loss = 0.19180074\n",
            "Iteration 814, loss = 0.19155642\n",
            "Iteration 815, loss = 0.19142243\n",
            "Iteration 816, loss = 0.19108003\n",
            "Iteration 817, loss = 0.19109869\n",
            "Iteration 818, loss = 0.19101042\n",
            "Iteration 819, loss = 0.19087332\n",
            "Iteration 820, loss = 0.19085052\n",
            "Iteration 821, loss = 0.19070221\n",
            "Iteration 822, loss = 0.19068336\n",
            "Iteration 823, loss = 0.19069708\n",
            "Iteration 824, loss = 0.19060432\n",
            "Iteration 825, loss = 0.19046859\n",
            "Iteration 826, loss = 0.19050451\n",
            "Iteration 827, loss = 0.19045715\n",
            "Iteration 828, loss = 0.19036980\n",
            "Iteration 829, loss = 0.19023169\n",
            "Iteration 830, loss = 0.19012330\n",
            "Iteration 831, loss = 0.18992748\n",
            "Iteration 832, loss = 0.18998706\n",
            "Iteration 833, loss = 0.18982140\n",
            "Iteration 834, loss = 0.18965215\n",
            "Iteration 835, loss = 0.18972852\n",
            "Iteration 836, loss = 0.18949767\n",
            "Iteration 837, loss = 0.18951128\n",
            "Iteration 838, loss = 0.18942477\n",
            "Iteration 839, loss = 0.18932345\n",
            "Iteration 840, loss = 0.18907293\n",
            "Iteration 841, loss = 0.18911710\n",
            "Iteration 842, loss = 0.18922409\n",
            "Iteration 843, loss = 0.18922860\n",
            "Iteration 844, loss = 0.18890930\n",
            "Iteration 845, loss = 0.18883391\n",
            "Iteration 846, loss = 0.18885201\n",
            "Iteration 847, loss = 0.18866776\n",
            "Iteration 848, loss = 0.18859175\n",
            "Iteration 849, loss = 0.18846904\n",
            "Iteration 850, loss = 0.18846628\n",
            "Iteration 851, loss = 0.18843061\n",
            "Iteration 852, loss = 0.18826294\n",
            "Iteration 853, loss = 0.18810795\n",
            "Iteration 854, loss = 0.18814688\n",
            "Iteration 855, loss = 0.18807899\n",
            "Iteration 856, loss = 0.18810394\n",
            "Iteration 857, loss = 0.18802341\n",
            "Iteration 858, loss = 0.18795341\n",
            "Iteration 859, loss = 0.18757789\n",
            "Iteration 860, loss = 0.18751152\n",
            "Iteration 861, loss = 0.18747069\n",
            "Iteration 862, loss = 0.18751709\n",
            "Iteration 863, loss = 0.18748268\n",
            "Iteration 864, loss = 0.18767658\n",
            "Iteration 865, loss = 0.18722231\n",
            "Iteration 866, loss = 0.18725598\n",
            "Iteration 867, loss = 0.18685275\n",
            "Iteration 868, loss = 0.18719078\n",
            "Iteration 869, loss = 0.18709883\n",
            "Iteration 870, loss = 0.18691510\n",
            "Iteration 871, loss = 0.18699174\n",
            "Iteration 872, loss = 0.18702292\n",
            "Iteration 873, loss = 0.18713241\n",
            "Iteration 874, loss = 0.18704758\n",
            "Iteration 875, loss = 0.18711502\n",
            "Iteration 876, loss = 0.18737788\n",
            "Iteration 877, loss = 0.18765122\n",
            "Iteration 878, loss = 0.18793879\n",
            "Training loss did not improve more than tol=0.000001 for 10 consecutive epochs. Stopping.\n"
          ]
        },
        {
          "output_type": "execute_result",
          "data": {
            "text/plain": [
              "MLPClassifier(hidden_layer_sizes=(10, 5), max_iter=3000, tol=1e-06,\n",
              "              verbose=True)"
            ]
          },
          "metadata": {},
          "execution_count": 97
        }
      ]
    },
    {
      "cell_type": "code",
      "source": [
        "forecast = rede_neural.predict(x_teste)"
      ],
      "metadata": {
        "id": "rmnanWVBwQvo"
      },
      "execution_count": null,
      "outputs": []
    },
    {
      "cell_type": "code",
      "source": [
        "from sklearn.metrics import accuracy_score, classification_report\n",
        "accuracy_score(y_teste,forecast)"
      ],
      "metadata": {
        "colab": {
          "base_uri": "https://localhost:8080/"
        },
        "id": "y1qGGpowwZHA",
        "outputId": "8629bd9c-1d63-4248-9775-399caf502932"
      },
      "execution_count": null,
      "outputs": [
        {
          "output_type": "execute_result",
          "data": {
            "text/plain": [
              "0.8586956521739131"
            ]
          },
          "metadata": {},
          "execution_count": 99
        }
      ]
    },
    {
      "cell_type": "markdown",
      "source": [
        "#Resultados Teste 01\n",
        "\n",
        "1.   Naives Bayes 85.5%\n",
        "2.   Árvore de decisão 85.5%\n",
        "3. Random Florest 85.1%\n",
        "4. Regressão logistica (S) 83.6%\n",
        "5. KNN 83.6%\n",
        "6. SVM 85.5%\n",
        "7. Rede Neural 84.0%\n",
        "\n"
      ],
      "metadata": {
        "id": "H2-4zhCRl1g7"
      }
    },
    {
      "cell_type": "markdown",
      "source": [
        "# Teste 02 - Encontrando os melhores hiperparametros para cada modelo"
      ],
      "metadata": {
        "id": "FPci6T6Fi_qH"
      }
    },
    {
      "cell_type": "code",
      "source": [
        "from sklearn.model_selection import GridSearchCV\n",
        "from sklearn.tree import DecisionTreeClassifier\n",
        "from sklearn.ensemble import RandomForestClassifier\n",
        "from sklearn.neighbors import KNeighborsClassifier\n",
        "from sklearn.linear_model import LogisticRegression\n",
        "from sklearn.svm import SVC\n",
        "from sklearn.neural_network import MLPClassifier\n",
        "\n",
        "\n",
        "#Como iremos utilizar a validação cruzada, temos que ter o dataset completo. Partindo do pre suposto que só temos as celulas de treinamento e teste iremos concatena-las para usar a validação cruzada\n",
        "x_dataset = np.concatenate((x_train,x_teste), axis = 0) #Axis= 0 se refere as linhas \n",
        "y_dataset = np.concatenate((y_train,y_teste), axis = 0)\n",
        "print(x_dataset.shape,y_dataset.shape)\n",
        "print(x_dataset)"
      ],
      "metadata": {
        "colab": {
          "base_uri": "https://localhost:8080/"
        },
        "id": "HMjjlfzqjSiD",
        "outputId": "d99cbf75-2467-4521-b625-0a513e96604f"
      },
      "execution_count": null,
      "outputs": [
        {
          "output_type": "stream",
          "name": "stdout",
          "text": [
            "(918, 20) (918,)\n",
            "[[-0.51595242  0.51595242  0.9223917  ... -0.55134134 -0.26759586\n",
            "  -0.83243239]\n",
            " [-0.51595242  0.51595242 -1.08413811 ... -0.55134134  1.85450652\n",
            "   0.10566353]\n",
            " [-0.51595242  0.51595242  0.9223917  ...  1.81375843 -0.42478863\n",
            "   1.23137863]\n",
            " ...\n",
            " [-0.51595242  0.51595242  0.9223917  ...  1.81375843 -0.93566513\n",
            "   0.4809019 ]\n",
            " [-0.51595242  0.51595242  0.9223917  ... -0.55134134  0.28257883\n",
            "   1.79423618]\n",
            " [-0.51595242  0.51595242  0.9223917  ... -0.55134134  1.30433183\n",
            "  -0.83243239]]\n"
          ]
        }
      ]
    },
    {
      "cell_type": "code",
      "source": [
        "y_dataset"
      ],
      "metadata": {
        "id": "a4z345mkz28J"
      },
      "execution_count": null,
      "outputs": []
    },
    {
      "cell_type": "markdown",
      "source": [
        "##Arvore de decisão 85.07%"
      ],
      "metadata": {
        "id": "W_qs5TTvj9av"
      }
    },
    {
      "cell_type": "code",
      "source": [
        "parametros = {'criterion':['gini','entropy'],\n",
        "              'splitter': ['best','random'],\n",
        "              'min_samples_split': [2,5,10],\n",
        "              'min_samples_leaf': [1,5,10]}\n",
        "grid_search = GridSearchCV(estimator = DecisionTreeClassifier(), param_grid=parametros)\n",
        "grid_search.fit(x_dataset,y_dataset)\n",
        "melhores_param = grid_search.best_params_\n",
        "best_result = grid_search.best_score_\n",
        "print(melhores_param)\n",
        "print(best_result)"
      ],
      "metadata": {
        "colab": {
          "base_uri": "https://localhost:8080/"
        },
        "id": "l4i-GyhCjix9",
        "outputId": "d78c1803-b64f-465c-92c3-6135854d6e08"
      },
      "execution_count": null,
      "outputs": [
        {
          "output_type": "stream",
          "name": "stdout",
          "text": [
            "{'criterion': 'gini', 'min_samples_leaf': 5, 'min_samples_split': 5, 'splitter': 'random'}\n",
            "0.8507543359467806\n"
          ]
        }
      ]
    },
    {
      "cell_type": "markdown",
      "source": [
        "## Random Florest 88.02%"
      ],
      "metadata": {
        "id": "toKdauHfkCMV"
      }
    },
    {
      "cell_type": "code",
      "source": [
        "parametros = {'criterion':['gini','entropy'],\n",
        "              'n_estimators': [10,40,100,150],\n",
        "              'min_samples_split': [2,5,10],\n",
        "              'min_samples_leaf': [1,5,10]}\n",
        "grid_search = GridSearchCV(estimator = RandomForestClassifier(), param_grid=parametros)\n",
        "grid_search.fit(x_dataset,y_dataset)\n",
        "melhores_param = grid_search.best_params_\n",
        "best_result = grid_search.best_score_\n",
        "print(melhores_param)\n",
        "print(best_result)"
      ],
      "metadata": {
        "colab": {
          "base_uri": "https://localhost:8080/"
        },
        "id": "07ZaIwoUkJ-A",
        "outputId": "a4e27f83-05d6-48b0-bd34-6c6df71b8d6a"
      },
      "execution_count": null,
      "outputs": [
        {
          "output_type": "stream",
          "name": "stdout",
          "text": [
            "{'criterion': 'gini', 'min_samples_leaf': 5, 'min_samples_split': 10, 'n_estimators': 40}\n",
            "0.8812069375148491\n"
          ]
        }
      ]
    },
    {
      "cell_type": "markdown",
      "source": [
        "## KNN 87.25%"
      ],
      "metadata": {
        "id": "AC-6YHmAks9W"
      }
    },
    {
      "cell_type": "code",
      "source": [
        "parametros = {'n_neighbors': [3,5,10,20],\n",
        "              'p':[1,2]}\n",
        "grid_search = GridSearchCV(estimator = KNeighborsClassifier(), param_grid=parametros)\n",
        "grid_search.fit(x_dataset,y_dataset)\n",
        "melhores_param = grid_search.best_params_\n",
        "best_result = grid_search.best_score_\n",
        "print(melhores_param)\n",
        "print(best_result)"
      ],
      "metadata": {
        "colab": {
          "base_uri": "https://localhost:8080/"
        },
        "id": "G4m_236okvYt",
        "outputId": "4877c69a-77da-45d2-bc56-946929f1a7f9"
      },
      "execution_count": null,
      "outputs": [
        {
          "output_type": "stream",
          "name": "stdout",
          "text": [
            "{'n_neighbors': 20, 'p': 1}\n",
            "0.8648847707293894\n"
          ]
        }
      ]
    },
    {
      "cell_type": "markdown",
      "source": [
        "## Regressão Logistica 86,71%"
      ],
      "metadata": {
        "id": "xSvpkKO5lGNn"
      }
    },
    {
      "cell_type": "code",
      "source": [
        "parametros = {'tol':[0.0001,0.00001,0.000001],\n",
        "              'C': [1.0, 1.5, 2.0],\n",
        "              'solver': ['lbfgs','sag','saga']\n",
        "              }\n",
        "grid_search = GridSearchCV(estimator = LogisticRegression(), param_grid=parametros)\n",
        "grid_search.fit(x_dataset,y_dataset)\n",
        "melhores_param = grid_search.best_params_\n",
        "best_result = grid_search.best_score_\n",
        "print(melhores_param)\n",
        "print(best_result)"
      ],
      "metadata": {
        "colab": {
          "base_uri": "https://localhost:8080/"
        },
        "id": "AI_Obpn0lIw2",
        "outputId": "d1947847-5ef6-4bc4-81ab-dfccd968ad7e"
      },
      "execution_count": null,
      "outputs": [
        {
          "output_type": "stream",
          "name": "stdout",
          "text": [
            "{'C': 2.0, 'solver': 'sag', 'tol': 0.0001}\n",
            "0.8637740555951531\n"
          ]
        }
      ]
    },
    {
      "cell_type": "markdown",
      "source": [
        "## SVM 87.04%"
      ],
      "metadata": {
        "id": "8VvTAQCalT9a"
      }
    },
    {
      "cell_type": "code",
      "source": [
        "parametros = {'tol':[0.0001,0.00001,0.000001],\n",
        "              'C': [1.0,1.5,2.0],\n",
        "              'kernel': ['rbf', 'linear','poly','sigmoid']}\n",
        "grid_search = GridSearchCV(estimator = SVC(), param_grid=parametros)\n",
        "grid_search.fit(x_dataset,y_dataset)\n",
        "melhores_param = grid_search.best_params_\n",
        "best_result = grid_search.best_score_\n",
        "print(melhores_param)\n",
        "print(best_result)"
      ],
      "metadata": {
        "colab": {
          "base_uri": "https://localhost:8080/"
        },
        "id": "9L-3gyBnlXKp",
        "outputId": "43b39219-4118-4481-b709-7a197f102eff"
      },
      "execution_count": null,
      "outputs": [
        {
          "output_type": "stream",
          "name": "stdout",
          "text": [
            "{'C': 2.0, 'kernel': 'rbf', 'tol': 0.0001}\n",
            "0.8692385364694702\n"
          ]
        }
      ]
    },
    {
      "cell_type": "markdown",
      "source": [
        "## Redes Neurais 86.7%"
      ],
      "metadata": {
        "id": "NkIqtiymlij5"
      }
    },
    {
      "cell_type": "code",
      "source": [
        "parametros = {\n",
        "    'activation': ['relu', 'logistic','tahn'],\n",
        "    'solver': ['adam','sgd'],\n",
        "    'batch_size': [10,56]}\n",
        "grid_search = GridSearchCV(estimator = MLPClassifier(), param_grid=parametros)\n",
        "grid_search.fit(x_dataset,y_dataset)\n",
        "melhores_param = grid_search.best_params_\n",
        "best_result = grid_search.best_score_\n",
        "print(melhores_param)\n",
        "print(best_result)"
      ],
      "metadata": {
        "colab": {
          "base_uri": "https://localhost:8080/"
        },
        "id": "Q02YFZcelky3",
        "outputId": "f380c704-e86c-4b76-85fa-e2a6db97d0ac"
      },
      "execution_count": null,
      "outputs": [
        {
          "output_type": "stream",
          "name": "stderr",
          "text": [
            "/usr/local/lib/python3.8/dist-packages/sklearn/neural_network/_multilayer_perceptron.py:692: ConvergenceWarning: Stochastic Optimizer: Maximum iterations (200) reached and the optimization hasn't converged yet.\n",
            "  warnings.warn(\n",
            "/usr/local/lib/python3.8/dist-packages/sklearn/neural_network/_multilayer_perceptron.py:692: ConvergenceWarning: Stochastic Optimizer: Maximum iterations (200) reached and the optimization hasn't converged yet.\n",
            "  warnings.warn(\n",
            "/usr/local/lib/python3.8/dist-packages/sklearn/neural_network/_multilayer_perceptron.py:692: ConvergenceWarning: Stochastic Optimizer: Maximum iterations (200) reached and the optimization hasn't converged yet.\n",
            "  warnings.warn(\n",
            "/usr/local/lib/python3.8/dist-packages/sklearn/neural_network/_multilayer_perceptron.py:692: ConvergenceWarning: Stochastic Optimizer: Maximum iterations (200) reached and the optimization hasn't converged yet.\n",
            "  warnings.warn(\n",
            "/usr/local/lib/python3.8/dist-packages/sklearn/neural_network/_multilayer_perceptron.py:692: ConvergenceWarning: Stochastic Optimizer: Maximum iterations (200) reached and the optimization hasn't converged yet.\n",
            "  warnings.warn(\n",
            "/usr/local/lib/python3.8/dist-packages/sklearn/neural_network/_multilayer_perceptron.py:692: ConvergenceWarning: Stochastic Optimizer: Maximum iterations (200) reached and the optimization hasn't converged yet.\n",
            "  warnings.warn(\n",
            "/usr/local/lib/python3.8/dist-packages/sklearn/neural_network/_multilayer_perceptron.py:692: ConvergenceWarning: Stochastic Optimizer: Maximum iterations (200) reached and the optimization hasn't converged yet.\n",
            "  warnings.warn(\n",
            "/usr/local/lib/python3.8/dist-packages/sklearn/neural_network/_multilayer_perceptron.py:692: ConvergenceWarning: Stochastic Optimizer: Maximum iterations (200) reached and the optimization hasn't converged yet.\n",
            "  warnings.warn(\n",
            "/usr/local/lib/python3.8/dist-packages/sklearn/neural_network/_multilayer_perceptron.py:692: ConvergenceWarning: Stochastic Optimizer: Maximum iterations (200) reached and the optimization hasn't converged yet.\n",
            "  warnings.warn(\n",
            "/usr/local/lib/python3.8/dist-packages/sklearn/neural_network/_multilayer_perceptron.py:692: ConvergenceWarning: Stochastic Optimizer: Maximum iterations (200) reached and the optimization hasn't converged yet.\n",
            "  warnings.warn(\n",
            "/usr/local/lib/python3.8/dist-packages/sklearn/neural_network/_multilayer_perceptron.py:692: ConvergenceWarning: Stochastic Optimizer: Maximum iterations (200) reached and the optimization hasn't converged yet.\n",
            "  warnings.warn(\n",
            "/usr/local/lib/python3.8/dist-packages/sklearn/neural_network/_multilayer_perceptron.py:692: ConvergenceWarning: Stochastic Optimizer: Maximum iterations (200) reached and the optimization hasn't converged yet.\n",
            "  warnings.warn(\n",
            "/usr/local/lib/python3.8/dist-packages/sklearn/neural_network/_multilayer_perceptron.py:692: ConvergenceWarning: Stochastic Optimizer: Maximum iterations (200) reached and the optimization hasn't converged yet.\n",
            "  warnings.warn(\n",
            "/usr/local/lib/python3.8/dist-packages/sklearn/neural_network/_multilayer_perceptron.py:692: ConvergenceWarning: Stochastic Optimizer: Maximum iterations (200) reached and the optimization hasn't converged yet.\n",
            "  warnings.warn(\n",
            "/usr/local/lib/python3.8/dist-packages/sklearn/neural_network/_multilayer_perceptron.py:692: ConvergenceWarning: Stochastic Optimizer: Maximum iterations (200) reached and the optimization hasn't converged yet.\n",
            "  warnings.warn(\n",
            "/usr/local/lib/python3.8/dist-packages/sklearn/neural_network/_multilayer_perceptron.py:692: ConvergenceWarning: Stochastic Optimizer: Maximum iterations (200) reached and the optimization hasn't converged yet.\n",
            "  warnings.warn(\n",
            "/usr/local/lib/python3.8/dist-packages/sklearn/neural_network/_multilayer_perceptron.py:692: ConvergenceWarning: Stochastic Optimizer: Maximum iterations (200) reached and the optimization hasn't converged yet.\n",
            "  warnings.warn(\n",
            "/usr/local/lib/python3.8/dist-packages/sklearn/neural_network/_multilayer_perceptron.py:692: ConvergenceWarning: Stochastic Optimizer: Maximum iterations (200) reached and the optimization hasn't converged yet.\n",
            "  warnings.warn(\n",
            "/usr/local/lib/python3.8/dist-packages/sklearn/neural_network/_multilayer_perceptron.py:692: ConvergenceWarning: Stochastic Optimizer: Maximum iterations (200) reached and the optimization hasn't converged yet.\n",
            "  warnings.warn(\n",
            "/usr/local/lib/python3.8/dist-packages/sklearn/neural_network/_multilayer_perceptron.py:692: ConvergenceWarning: Stochastic Optimizer: Maximum iterations (200) reached and the optimization hasn't converged yet.\n",
            "  warnings.warn(\n",
            "/usr/local/lib/python3.8/dist-packages/sklearn/neural_network/_multilayer_perceptron.py:692: ConvergenceWarning: Stochastic Optimizer: Maximum iterations (200) reached and the optimization hasn't converged yet.\n",
            "  warnings.warn(\n",
            "/usr/local/lib/python3.8/dist-packages/sklearn/neural_network/_multilayer_perceptron.py:692: ConvergenceWarning: Stochastic Optimizer: Maximum iterations (200) reached and the optimization hasn't converged yet.\n",
            "  warnings.warn(\n",
            "/usr/local/lib/python3.8/dist-packages/sklearn/neural_network/_multilayer_perceptron.py:692: ConvergenceWarning: Stochastic Optimizer: Maximum iterations (200) reached and the optimization hasn't converged yet.\n",
            "  warnings.warn(\n",
            "/usr/local/lib/python3.8/dist-packages/sklearn/neural_network/_multilayer_perceptron.py:692: ConvergenceWarning: Stochastic Optimizer: Maximum iterations (200) reached and the optimization hasn't converged yet.\n",
            "  warnings.warn(\n",
            "/usr/local/lib/python3.8/dist-packages/sklearn/neural_network/_multilayer_perceptron.py:692: ConvergenceWarning: Stochastic Optimizer: Maximum iterations (200) reached and the optimization hasn't converged yet.\n",
            "  warnings.warn(\n",
            "/usr/local/lib/python3.8/dist-packages/sklearn/neural_network/_multilayer_perceptron.py:692: ConvergenceWarning: Stochastic Optimizer: Maximum iterations (200) reached and the optimization hasn't converged yet.\n",
            "  warnings.warn(\n",
            "/usr/local/lib/python3.8/dist-packages/sklearn/neural_network/_multilayer_perceptron.py:692: ConvergenceWarning: Stochastic Optimizer: Maximum iterations (200) reached and the optimization hasn't converged yet.\n",
            "  warnings.warn(\n",
            "/usr/local/lib/python3.8/dist-packages/sklearn/neural_network/_multilayer_perceptron.py:692: ConvergenceWarning: Stochastic Optimizer: Maximum iterations (200) reached and the optimization hasn't converged yet.\n",
            "  warnings.warn(\n",
            "/usr/local/lib/python3.8/dist-packages/sklearn/neural_network/_multilayer_perceptron.py:692: ConvergenceWarning: Stochastic Optimizer: Maximum iterations (200) reached and the optimization hasn't converged yet.\n",
            "  warnings.warn(\n",
            "/usr/local/lib/python3.8/dist-packages/sklearn/model_selection/_validation.py:372: FitFailedWarning: \n",
            "20 fits failed out of a total of 60.\n",
            "The score on these train-test partitions for these parameters will be set to nan.\n",
            "If these failures are not expected, you can try to debug them by setting error_score='raise'.\n",
            "\n",
            "Below are more details about the failures:\n",
            "--------------------------------------------------------------------------------\n",
            "20 fits failed with the following error:\n",
            "Traceback (most recent call last):\n",
            "  File \"/usr/local/lib/python3.8/dist-packages/sklearn/model_selection/_validation.py\", line 680, in _fit_and_score\n",
            "    estimator.fit(X_train, y_train, **fit_params)\n",
            "  File \"/usr/local/lib/python3.8/dist-packages/sklearn/neural_network/_multilayer_perceptron.py\", line 752, in fit\n",
            "    return self._fit(X, y, incremental=False)\n",
            "  File \"/usr/local/lib/python3.8/dist-packages/sklearn/neural_network/_multilayer_perceptron.py\", line 384, in _fit\n",
            "    self._validate_hyperparameters()\n",
            "  File \"/usr/local/lib/python3.8/dist-packages/sklearn/neural_network/_multilayer_perceptron.py\", line 493, in _validate_hyperparameters\n",
            "    raise ValueError(\n",
            "ValueError: The activation 'tahn' is not supported. Supported activations are ['identity', 'logistic', 'relu', 'softmax', 'tanh'].\n",
            "\n",
            "  warnings.warn(some_fits_failed_message, FitFailedWarning)\n",
            "/usr/local/lib/python3.8/dist-packages/sklearn/model_selection/_search.py:969: UserWarning: One or more of the test scores are non-finite: [0.84640651 0.86164766 0.85947375 0.87250535 0.86158826 0.86051913\n",
            " 0.86487289 0.86596579        nan        nan        nan        nan]\n",
            "  warnings.warn(\n"
          ]
        },
        {
          "output_type": "stream",
          "name": "stdout",
          "text": [
            "{'activation': 'relu', 'batch_size': 56, 'solver': 'sgd'}\n",
            "0.8725053456878118\n"
          ]
        },
        {
          "output_type": "stream",
          "name": "stderr",
          "text": [
            "/usr/local/lib/python3.8/dist-packages/sklearn/neural_network/_multilayer_perceptron.py:692: ConvergenceWarning: Stochastic Optimizer: Maximum iterations (200) reached and the optimization hasn't converged yet.\n",
            "  warnings.warn(\n"
          ]
        }
      ]
    },
    {
      "cell_type": "markdown",
      "source": [
        "## Cross Validation"
      ],
      "metadata": {
        "id": "AlygVxgRm5vo"
      }
    },
    {
      "cell_type": "code",
      "source": [
        "#Entendendo o que será feito\n",
        "\n",
        "'''Variavel kfold'''#Iremos dividir a nossa base de dados em 10 partes (n_splits=10) e iremos fazer 30 testes(for i in range 30)\n",
        "'''arvore,random florest, knn, rede neural....'''# Posteriormente iremos colocar os melhores parametros nos modelos de precisão\n",
        "'''Scores'''# Validação cruzada com dataset dividido em 10 partes e com 30 testes\n",
        "'''Resultado_...'''#Média dos resultados das validações cruzadas\n",
        "from sklearn.model_selection import cross_val_score, KFold"
      ],
      "metadata": {
        "id": "izaKBYfqm-HJ"
      },
      "execution_count": null,
      "outputs": []
    },
    {
      "cell_type": "code",
      "source": [
        "# Arvore de decisão\n",
        "resultados_arvore = []\n",
        "\n",
        "for i in range(30):\n",
        "  kfold = KFold(n_splits=10, shuffle=True, random_state=i)\n",
        "\n",
        "  arvore = DecisionTreeClassifier(criterion='entropy', min_samples_leaf=10, min_samples_split=2, splitter='random') \n",
        "  scores = cross_val_score(arvore, x_dataset, y_dataset, cv = kfold)\n",
        "  resultados_arvore.append(scores.mean())"
      ],
      "metadata": {
        "id": "B0st9UjlnBeX"
      },
      "execution_count": null,
      "outputs": []
    },
    {
      "cell_type": "code",
      "source": [
        "# Random Florest\n",
        "resultados_random_forest = []\n",
        "for i in range(30):\n",
        "  kfold = KFold(n_splits=10, shuffle=True, random_state=i)\n",
        "  random_forest = RandomForestClassifier(criterion = 'gini', min_samples_leaf = 5, min_samples_split=5, n_estimators = 100) \n",
        "  scores = cross_val_score(random_forest, x_dataset, y_dataset, cv = kfold)\n",
        "  resultados_random_forest.append(scores.mean())"
      ],
      "metadata": {
        "id": "_K3kFPeYnH-f"
      },
      "execution_count": null,
      "outputs": []
    },
    {
      "cell_type": "code",
      "source": [
        "# Knn\n",
        "resultados_knn = []\n",
        "for i in range(30):\n",
        "  kfold = KFold(n_splits=10, shuffle=True, random_state=i)\n",
        "  knn = KNeighborsClassifier(n_neighbors= 20, p = 1)\n",
        "  scores = cross_val_score(knn, x_dataset, y_dataset, cv = kfold)\n",
        "  resultados_knn.append(scores.mean())"
      ],
      "metadata": {
        "id": "fkP4g2X9nNDW"
      },
      "execution_count": null,
      "outputs": []
    },
    {
      "cell_type": "code",
      "source": [
        "# Regressão logística\n",
        "resultados_logistica = []\n",
        "for i in range(30):\n",
        "  kfold = KFold(n_splits=10, shuffle=True, random_state=i)\n",
        "  logistica = LogisticRegression(C = 1.0, solver = 'lbfgs', tol = 0.0001)\n",
        "  scores = cross_val_score(logistica, x_dataset, y_dataset, cv = kfold)\n",
        "  resultados_logistica.append(scores.mean())"
      ],
      "metadata": {
        "id": "tFUIMXKdn2cy"
      },
      "execution_count": null,
      "outputs": []
    },
    {
      "cell_type": "code",
      "source": [
        "#SVM\n",
        "resultados_svm = []\n",
        "for i in range(30):\n",
        "  kfold = KFold(n_splits=10, shuffle=True, random_state=i)\n",
        "  svm = SVC(kernel = 'rbf', C = 2.0,tol = 0.0001)\n",
        "  scores = cross_val_score(svm, x_dataset, y_dataset, cv = kfold)\n",
        "  resultados_svm.append(scores.mean())"
      ],
      "metadata": {
        "id": "66GK5TMPoCuy"
      },
      "execution_count": null,
      "outputs": []
    },
    {
      "cell_type": "code",
      "source": [
        "#Rede Neural\n",
        "resultados_rede_neural = []\n",
        "\n",
        "for i in range(30):\n",
        "  kfold = KFold(n_splits=10, shuffle=True, random_state=i)\n",
        "  rede_neural = MLPClassifier(activation = 'logistic', batch_size = 10, solver = 'sgd')\n",
        "  scores = cross_val_score(rede_neural, x_dataset, y_dataset, cv = kfold)\n",
        "  resultados_rede_neural.append(scores.mean())\n"
      ],
      "metadata": {
        "id": "FMV7D03woNfc"
      },
      "execution_count": null,
      "outputs": []
    },
    {
      "cell_type": "markdown",
      "source": [
        "# Resultados do Tuning dos parametros + Cross validation"
      ],
      "metadata": {
        "id": "nlblSq26r0yw"
      }
    },
    {
      "cell_type": "code",
      "source": [
        "#Transformando os resultados em dataframe\n",
        "resultados = pd.DataFrame({\n",
        "    'Arvore': resultados_arvore, 'Random forest':resultados_random_forest,\n",
        "    'KNN': resultados_knn, 'Logistica': resultados_logistica,\n",
        "    'SVM': resultados_svm, 'Rede Neural': resultados_rede_neural})\n",
        "resultados"
      ],
      "metadata": {
        "id": "kMe7ywtlr9yy",
        "colab": {
          "base_uri": "https://localhost:8080/"
        },
        "outputId": "6ecf75cc-f664-4381-a659-2e21d431d02a"
      },
      "execution_count": null,
      "outputs": [
        {
          "output_type": "execute_result",
          "data": {
            "text/plain": [
              "      Arvore  Random forest       KNN  Logistica       SVM  Rede Neural\n",
              "0   0.838784       0.870401  0.875836   0.860595  0.857322     0.861670\n",
              "1   0.837673       0.871441  0.868204   0.864895  0.864943     0.867069\n",
              "2   0.839835       0.875753  0.865994   0.861646  0.860523     0.867093\n",
              "3   0.846357       0.875788  0.869267   0.867069  0.864859     0.867069\n",
              "4   0.847575       0.874761  0.872575   0.861634  0.864990     0.861646\n",
              "5   0.843120       0.875764  0.870294   0.862697  0.870342     0.865958\n",
              "6   0.835475       0.874713  0.871417   0.860595  0.858409     0.860607\n",
              "7   0.845282       0.872504  0.873602   0.859424  0.864895     0.861598\n",
              "8   0.855160       0.874809  0.867105   0.862769  0.870413     0.866030\n",
              "9   0.845246       0.874725  0.872516   0.861682  0.862685     0.863856\n",
              "10  0.842093       0.873650  0.870401   0.866065  0.860547     0.867164\n",
              "11  0.840934       0.872551  0.870377   0.865994  0.861622     0.867093\n",
              "12  0.836598       0.872527  0.867093   0.861598  0.864883     0.861586\n",
              "13  0.851804       0.868144  0.873579   0.860535  0.865958     0.860547\n",
              "14  0.834472       0.872599  0.868192   0.862781  0.868239     0.861682\n",
              "15  0.839883       0.870342  0.864919   0.858337  0.860547     0.857250\n",
              "16  0.855160       0.874713  0.870366   0.860559  0.872527     0.858373\n",
              "17  0.832250       0.877950  0.873602   0.865934  0.863772     0.864847\n",
              "18  0.838665       0.870282  0.863748   0.860487  0.860499     0.860487\n",
              "19  0.838772       0.872539  0.874737   0.861658  0.868192     0.866030\n",
              "20  0.844231       0.878034  0.872575   0.860571  0.863903     0.863832\n",
              "21  0.845342       0.878010  0.867176   0.860607  0.872551     0.866065\n",
              "22  0.834412       0.875848  0.870413   0.866006  0.862828     0.862757\n",
              "23  0.837709       0.876935  0.869290   0.861646  0.867081     0.860547\n",
              "24  0.831187       0.875776  0.868168   0.862757  0.863844     0.860583\n",
              "25  0.830041       0.869338  0.867176   0.860583  0.870401     0.860583\n",
              "26  0.846405       0.874677  0.867081   0.860523  0.864895     0.863796\n",
              "27  0.839907       0.873602  0.868168   0.862733  0.871429     0.858385\n",
              "28  0.848650       0.869338  0.874785   0.861730  0.864990     0.862817\n",
              "29  0.848638       0.875788  0.873626   0.861646  0.875824     0.861658"
            ],
            "text/html": [
              "\n",
              "  <div id=\"df-4015ab13-731b-40cf-8d7c-67ee0c13e695\">\n",
              "    <div class=\"colab-df-container\">\n",
              "      <div>\n",
              "<style scoped>\n",
              "    .dataframe tbody tr th:only-of-type {\n",
              "        vertical-align: middle;\n",
              "    }\n",
              "\n",
              "    .dataframe tbody tr th {\n",
              "        vertical-align: top;\n",
              "    }\n",
              "\n",
              "    .dataframe thead th {\n",
              "        text-align: right;\n",
              "    }\n",
              "</style>\n",
              "<table border=\"1\" class=\"dataframe\">\n",
              "  <thead>\n",
              "    <tr style=\"text-align: right;\">\n",
              "      <th></th>\n",
              "      <th>Arvore</th>\n",
              "      <th>Random forest</th>\n",
              "      <th>KNN</th>\n",
              "      <th>Logistica</th>\n",
              "      <th>SVM</th>\n",
              "      <th>Rede Neural</th>\n",
              "    </tr>\n",
              "  </thead>\n",
              "  <tbody>\n",
              "    <tr>\n",
              "      <th>0</th>\n",
              "      <td>0.838784</td>\n",
              "      <td>0.870401</td>\n",
              "      <td>0.875836</td>\n",
              "      <td>0.860595</td>\n",
              "      <td>0.857322</td>\n",
              "      <td>0.861670</td>\n",
              "    </tr>\n",
              "    <tr>\n",
              "      <th>1</th>\n",
              "      <td>0.837673</td>\n",
              "      <td>0.871441</td>\n",
              "      <td>0.868204</td>\n",
              "      <td>0.864895</td>\n",
              "      <td>0.864943</td>\n",
              "      <td>0.867069</td>\n",
              "    </tr>\n",
              "    <tr>\n",
              "      <th>2</th>\n",
              "      <td>0.839835</td>\n",
              "      <td>0.875753</td>\n",
              "      <td>0.865994</td>\n",
              "      <td>0.861646</td>\n",
              "      <td>0.860523</td>\n",
              "      <td>0.867093</td>\n",
              "    </tr>\n",
              "    <tr>\n",
              "      <th>3</th>\n",
              "      <td>0.846357</td>\n",
              "      <td>0.875788</td>\n",
              "      <td>0.869267</td>\n",
              "      <td>0.867069</td>\n",
              "      <td>0.864859</td>\n",
              "      <td>0.867069</td>\n",
              "    </tr>\n",
              "    <tr>\n",
              "      <th>4</th>\n",
              "      <td>0.847575</td>\n",
              "      <td>0.874761</td>\n",
              "      <td>0.872575</td>\n",
              "      <td>0.861634</td>\n",
              "      <td>0.864990</td>\n",
              "      <td>0.861646</td>\n",
              "    </tr>\n",
              "    <tr>\n",
              "      <th>5</th>\n",
              "      <td>0.843120</td>\n",
              "      <td>0.875764</td>\n",
              "      <td>0.870294</td>\n",
              "      <td>0.862697</td>\n",
              "      <td>0.870342</td>\n",
              "      <td>0.865958</td>\n",
              "    </tr>\n",
              "    <tr>\n",
              "      <th>6</th>\n",
              "      <td>0.835475</td>\n",
              "      <td>0.874713</td>\n",
              "      <td>0.871417</td>\n",
              "      <td>0.860595</td>\n",
              "      <td>0.858409</td>\n",
              "      <td>0.860607</td>\n",
              "    </tr>\n",
              "    <tr>\n",
              "      <th>7</th>\n",
              "      <td>0.845282</td>\n",
              "      <td>0.872504</td>\n",
              "      <td>0.873602</td>\n",
              "      <td>0.859424</td>\n",
              "      <td>0.864895</td>\n",
              "      <td>0.861598</td>\n",
              "    </tr>\n",
              "    <tr>\n",
              "      <th>8</th>\n",
              "      <td>0.855160</td>\n",
              "      <td>0.874809</td>\n",
              "      <td>0.867105</td>\n",
              "      <td>0.862769</td>\n",
              "      <td>0.870413</td>\n",
              "      <td>0.866030</td>\n",
              "    </tr>\n",
              "    <tr>\n",
              "      <th>9</th>\n",
              "      <td>0.845246</td>\n",
              "      <td>0.874725</td>\n",
              "      <td>0.872516</td>\n",
              "      <td>0.861682</td>\n",
              "      <td>0.862685</td>\n",
              "      <td>0.863856</td>\n",
              "    </tr>\n",
              "    <tr>\n",
              "      <th>10</th>\n",
              "      <td>0.842093</td>\n",
              "      <td>0.873650</td>\n",
              "      <td>0.870401</td>\n",
              "      <td>0.866065</td>\n",
              "      <td>0.860547</td>\n",
              "      <td>0.867164</td>\n",
              "    </tr>\n",
              "    <tr>\n",
              "      <th>11</th>\n",
              "      <td>0.840934</td>\n",
              "      <td>0.872551</td>\n",
              "      <td>0.870377</td>\n",
              "      <td>0.865994</td>\n",
              "      <td>0.861622</td>\n",
              "      <td>0.867093</td>\n",
              "    </tr>\n",
              "    <tr>\n",
              "      <th>12</th>\n",
              "      <td>0.836598</td>\n",
              "      <td>0.872527</td>\n",
              "      <td>0.867093</td>\n",
              "      <td>0.861598</td>\n",
              "      <td>0.864883</td>\n",
              "      <td>0.861586</td>\n",
              "    </tr>\n",
              "    <tr>\n",
              "      <th>13</th>\n",
              "      <td>0.851804</td>\n",
              "      <td>0.868144</td>\n",
              "      <td>0.873579</td>\n",
              "      <td>0.860535</td>\n",
              "      <td>0.865958</td>\n",
              "      <td>0.860547</td>\n",
              "    </tr>\n",
              "    <tr>\n",
              "      <th>14</th>\n",
              "      <td>0.834472</td>\n",
              "      <td>0.872599</td>\n",
              "      <td>0.868192</td>\n",
              "      <td>0.862781</td>\n",
              "      <td>0.868239</td>\n",
              "      <td>0.861682</td>\n",
              "    </tr>\n",
              "    <tr>\n",
              "      <th>15</th>\n",
              "      <td>0.839883</td>\n",
              "      <td>0.870342</td>\n",
              "      <td>0.864919</td>\n",
              "      <td>0.858337</td>\n",
              "      <td>0.860547</td>\n",
              "      <td>0.857250</td>\n",
              "    </tr>\n",
              "    <tr>\n",
              "      <th>16</th>\n",
              "      <td>0.855160</td>\n",
              "      <td>0.874713</td>\n",
              "      <td>0.870366</td>\n",
              "      <td>0.860559</td>\n",
              "      <td>0.872527</td>\n",
              "      <td>0.858373</td>\n",
              "    </tr>\n",
              "    <tr>\n",
              "      <th>17</th>\n",
              "      <td>0.832250</td>\n",
              "      <td>0.877950</td>\n",
              "      <td>0.873602</td>\n",
              "      <td>0.865934</td>\n",
              "      <td>0.863772</td>\n",
              "      <td>0.864847</td>\n",
              "    </tr>\n",
              "    <tr>\n",
              "      <th>18</th>\n",
              "      <td>0.838665</td>\n",
              "      <td>0.870282</td>\n",
              "      <td>0.863748</td>\n",
              "      <td>0.860487</td>\n",
              "      <td>0.860499</td>\n",
              "      <td>0.860487</td>\n",
              "    </tr>\n",
              "    <tr>\n",
              "      <th>19</th>\n",
              "      <td>0.838772</td>\n",
              "      <td>0.872539</td>\n",
              "      <td>0.874737</td>\n",
              "      <td>0.861658</td>\n",
              "      <td>0.868192</td>\n",
              "      <td>0.866030</td>\n",
              "    </tr>\n",
              "    <tr>\n",
              "      <th>20</th>\n",
              "      <td>0.844231</td>\n",
              "      <td>0.878034</td>\n",
              "      <td>0.872575</td>\n",
              "      <td>0.860571</td>\n",
              "      <td>0.863903</td>\n",
              "      <td>0.863832</td>\n",
              "    </tr>\n",
              "    <tr>\n",
              "      <th>21</th>\n",
              "      <td>0.845342</td>\n",
              "      <td>0.878010</td>\n",
              "      <td>0.867176</td>\n",
              "      <td>0.860607</td>\n",
              "      <td>0.872551</td>\n",
              "      <td>0.866065</td>\n",
              "    </tr>\n",
              "    <tr>\n",
              "      <th>22</th>\n",
              "      <td>0.834412</td>\n",
              "      <td>0.875848</td>\n",
              "      <td>0.870413</td>\n",
              "      <td>0.866006</td>\n",
              "      <td>0.862828</td>\n",
              "      <td>0.862757</td>\n",
              "    </tr>\n",
              "    <tr>\n",
              "      <th>23</th>\n",
              "      <td>0.837709</td>\n",
              "      <td>0.876935</td>\n",
              "      <td>0.869290</td>\n",
              "      <td>0.861646</td>\n",
              "      <td>0.867081</td>\n",
              "      <td>0.860547</td>\n",
              "    </tr>\n",
              "    <tr>\n",
              "      <th>24</th>\n",
              "      <td>0.831187</td>\n",
              "      <td>0.875776</td>\n",
              "      <td>0.868168</td>\n",
              "      <td>0.862757</td>\n",
              "      <td>0.863844</td>\n",
              "      <td>0.860583</td>\n",
              "    </tr>\n",
              "    <tr>\n",
              "      <th>25</th>\n",
              "      <td>0.830041</td>\n",
              "      <td>0.869338</td>\n",
              "      <td>0.867176</td>\n",
              "      <td>0.860583</td>\n",
              "      <td>0.870401</td>\n",
              "      <td>0.860583</td>\n",
              "    </tr>\n",
              "    <tr>\n",
              "      <th>26</th>\n",
              "      <td>0.846405</td>\n",
              "      <td>0.874677</td>\n",
              "      <td>0.867081</td>\n",
              "      <td>0.860523</td>\n",
              "      <td>0.864895</td>\n",
              "      <td>0.863796</td>\n",
              "    </tr>\n",
              "    <tr>\n",
              "      <th>27</th>\n",
              "      <td>0.839907</td>\n",
              "      <td>0.873602</td>\n",
              "      <td>0.868168</td>\n",
              "      <td>0.862733</td>\n",
              "      <td>0.871429</td>\n",
              "      <td>0.858385</td>\n",
              "    </tr>\n",
              "    <tr>\n",
              "      <th>28</th>\n",
              "      <td>0.848650</td>\n",
              "      <td>0.869338</td>\n",
              "      <td>0.874785</td>\n",
              "      <td>0.861730</td>\n",
              "      <td>0.864990</td>\n",
              "      <td>0.862817</td>\n",
              "    </tr>\n",
              "    <tr>\n",
              "      <th>29</th>\n",
              "      <td>0.848638</td>\n",
              "      <td>0.875788</td>\n",
              "      <td>0.873626</td>\n",
              "      <td>0.861646</td>\n",
              "      <td>0.875824</td>\n",
              "      <td>0.861658</td>\n",
              "    </tr>\n",
              "  </tbody>\n",
              "</table>\n",
              "</div>\n",
              "      <button class=\"colab-df-convert\" onclick=\"convertToInteractive('df-4015ab13-731b-40cf-8d7c-67ee0c13e695')\"\n",
              "              title=\"Convert this dataframe to an interactive table.\"\n",
              "              style=\"display:none;\">\n",
              "        \n",
              "  <svg xmlns=\"http://www.w3.org/2000/svg\" height=\"24px\"viewBox=\"0 0 24 24\"\n",
              "       width=\"24px\">\n",
              "    <path d=\"M0 0h24v24H0V0z\" fill=\"none\"/>\n",
              "    <path d=\"M18.56 5.44l.94 2.06.94-2.06 2.06-.94-2.06-.94-.94-2.06-.94 2.06-2.06.94zm-11 1L8.5 8.5l.94-2.06 2.06-.94-2.06-.94L8.5 2.5l-.94 2.06-2.06.94zm10 10l.94 2.06.94-2.06 2.06-.94-2.06-.94-.94-2.06-.94 2.06-2.06.94z\"/><path d=\"M17.41 7.96l-1.37-1.37c-.4-.4-.92-.59-1.43-.59-.52 0-1.04.2-1.43.59L10.3 9.45l-7.72 7.72c-.78.78-.78 2.05 0 2.83L4 21.41c.39.39.9.59 1.41.59.51 0 1.02-.2 1.41-.59l7.78-7.78 2.81-2.81c.8-.78.8-2.07 0-2.86zM5.41 20L4 18.59l7.72-7.72 1.47 1.35L5.41 20z\"/>\n",
              "  </svg>\n",
              "      </button>\n",
              "      \n",
              "  <style>\n",
              "    .colab-df-container {\n",
              "      display:flex;\n",
              "      flex-wrap:wrap;\n",
              "      gap: 12px;\n",
              "    }\n",
              "\n",
              "    .colab-df-convert {\n",
              "      background-color: #E8F0FE;\n",
              "      border: none;\n",
              "      border-radius: 50%;\n",
              "      cursor: pointer;\n",
              "      display: none;\n",
              "      fill: #1967D2;\n",
              "      height: 32px;\n",
              "      padding: 0 0 0 0;\n",
              "      width: 32px;\n",
              "    }\n",
              "\n",
              "    .colab-df-convert:hover {\n",
              "      background-color: #E2EBFA;\n",
              "      box-shadow: 0px 1px 2px rgba(60, 64, 67, 0.3), 0px 1px 3px 1px rgba(60, 64, 67, 0.15);\n",
              "      fill: #174EA6;\n",
              "    }\n",
              "\n",
              "    [theme=dark] .colab-df-convert {\n",
              "      background-color: #3B4455;\n",
              "      fill: #D2E3FC;\n",
              "    }\n",
              "\n",
              "    [theme=dark] .colab-df-convert:hover {\n",
              "      background-color: #434B5C;\n",
              "      box-shadow: 0px 1px 3px 1px rgba(0, 0, 0, 0.15);\n",
              "      filter: drop-shadow(0px 1px 2px rgba(0, 0, 0, 0.3));\n",
              "      fill: #FFFFFF;\n",
              "    }\n",
              "  </style>\n",
              "\n",
              "      <script>\n",
              "        const buttonEl =\n",
              "          document.querySelector('#df-4015ab13-731b-40cf-8d7c-67ee0c13e695 button.colab-df-convert');\n",
              "        buttonEl.style.display =\n",
              "          google.colab.kernel.accessAllowed ? 'block' : 'none';\n",
              "\n",
              "        async function convertToInteractive(key) {\n",
              "          const element = document.querySelector('#df-4015ab13-731b-40cf-8d7c-67ee0c13e695');\n",
              "          const dataTable =\n",
              "            await google.colab.kernel.invokeFunction('convertToInteractive',\n",
              "                                                     [key], {});\n",
              "          if (!dataTable) return;\n",
              "\n",
              "          const docLinkHtml = 'Like what you see? Visit the ' +\n",
              "            '<a target=\"_blank\" href=https://colab.research.google.com/notebooks/data_table.ipynb>data table notebook</a>'\n",
              "            + ' to learn more about interactive tables.';\n",
              "          element.innerHTML = '';\n",
              "          dataTable['output_type'] = 'display_data';\n",
              "          await google.colab.output.renderOutput(dataTable, element);\n",
              "          const docLink = document.createElement('div');\n",
              "          docLink.innerHTML = docLinkHtml;\n",
              "          element.appendChild(docLink);\n",
              "        }\n",
              "      </script>\n",
              "    </div>\n",
              "  </div>\n",
              "  "
            ]
          },
          "metadata": {},
          "execution_count": 64
        }
      ]
    },
    {
      "cell_type": "code",
      "source": [
        "resultados.describe()"
      ],
      "metadata": {
        "colab": {
          "base_uri": "https://localhost:8080/"
        },
        "id": "zGH0Up89sGsT",
        "outputId": "7a83711f-c202-4388-9f2e-a464f3eb9a31"
      },
      "execution_count": null,
      "outputs": [
        {
          "output_type": "execute_result",
          "data": {
            "text/plain": [
              "          Arvore  Random forest        KNN  Logistica        SVM  Rede Neural\n",
              "count  30.000000      30.000000  30.000000  30.000000  30.000000    30.000000\n",
              "mean    0.841722       0.873777   0.870076   0.862192   0.865464     0.862956\n",
              "std     0.006595       0.002709   0.003162   0.002193   0.004497     0.002928\n",
              "min     0.830041       0.868144   0.863748   0.858337   0.857322     0.857250\n",
              "25%     0.837682       0.872510   0.867424   0.860586   0.862721     0.860589\n",
              "50%     0.840420       0.874695   0.870330   0.861646   0.864895     0.862219\n",
              "75%     0.846103       0.875773   0.872575   0.862766   0.868227     0.866012\n",
              "max     0.855160       0.878034   0.875836   0.867069   0.875824     0.867164"
            ],
            "text/html": [
              "\n",
              "  <div id=\"df-92ed4ab5-5e14-4c84-9638-5414cd4fcccd\">\n",
              "    <div class=\"colab-df-container\">\n",
              "      <div>\n",
              "<style scoped>\n",
              "    .dataframe tbody tr th:only-of-type {\n",
              "        vertical-align: middle;\n",
              "    }\n",
              "\n",
              "    .dataframe tbody tr th {\n",
              "        vertical-align: top;\n",
              "    }\n",
              "\n",
              "    .dataframe thead th {\n",
              "        text-align: right;\n",
              "    }\n",
              "</style>\n",
              "<table border=\"1\" class=\"dataframe\">\n",
              "  <thead>\n",
              "    <tr style=\"text-align: right;\">\n",
              "      <th></th>\n",
              "      <th>Arvore</th>\n",
              "      <th>Random forest</th>\n",
              "      <th>KNN</th>\n",
              "      <th>Logistica</th>\n",
              "      <th>SVM</th>\n",
              "      <th>Rede Neural</th>\n",
              "    </tr>\n",
              "  </thead>\n",
              "  <tbody>\n",
              "    <tr>\n",
              "      <th>count</th>\n",
              "      <td>30.000000</td>\n",
              "      <td>30.000000</td>\n",
              "      <td>30.000000</td>\n",
              "      <td>30.000000</td>\n",
              "      <td>30.000000</td>\n",
              "      <td>30.000000</td>\n",
              "    </tr>\n",
              "    <tr>\n",
              "      <th>mean</th>\n",
              "      <td>0.841722</td>\n",
              "      <td>0.873777</td>\n",
              "      <td>0.870076</td>\n",
              "      <td>0.862192</td>\n",
              "      <td>0.865464</td>\n",
              "      <td>0.862956</td>\n",
              "    </tr>\n",
              "    <tr>\n",
              "      <th>std</th>\n",
              "      <td>0.006595</td>\n",
              "      <td>0.002709</td>\n",
              "      <td>0.003162</td>\n",
              "      <td>0.002193</td>\n",
              "      <td>0.004497</td>\n",
              "      <td>0.002928</td>\n",
              "    </tr>\n",
              "    <tr>\n",
              "      <th>min</th>\n",
              "      <td>0.830041</td>\n",
              "      <td>0.868144</td>\n",
              "      <td>0.863748</td>\n",
              "      <td>0.858337</td>\n",
              "      <td>0.857322</td>\n",
              "      <td>0.857250</td>\n",
              "    </tr>\n",
              "    <tr>\n",
              "      <th>25%</th>\n",
              "      <td>0.837682</td>\n",
              "      <td>0.872510</td>\n",
              "      <td>0.867424</td>\n",
              "      <td>0.860586</td>\n",
              "      <td>0.862721</td>\n",
              "      <td>0.860589</td>\n",
              "    </tr>\n",
              "    <tr>\n",
              "      <th>50%</th>\n",
              "      <td>0.840420</td>\n",
              "      <td>0.874695</td>\n",
              "      <td>0.870330</td>\n",
              "      <td>0.861646</td>\n",
              "      <td>0.864895</td>\n",
              "      <td>0.862219</td>\n",
              "    </tr>\n",
              "    <tr>\n",
              "      <th>75%</th>\n",
              "      <td>0.846103</td>\n",
              "      <td>0.875773</td>\n",
              "      <td>0.872575</td>\n",
              "      <td>0.862766</td>\n",
              "      <td>0.868227</td>\n",
              "      <td>0.866012</td>\n",
              "    </tr>\n",
              "    <tr>\n",
              "      <th>max</th>\n",
              "      <td>0.855160</td>\n",
              "      <td>0.878034</td>\n",
              "      <td>0.875836</td>\n",
              "      <td>0.867069</td>\n",
              "      <td>0.875824</td>\n",
              "      <td>0.867164</td>\n",
              "    </tr>\n",
              "  </tbody>\n",
              "</table>\n",
              "</div>\n",
              "      <button class=\"colab-df-convert\" onclick=\"convertToInteractive('df-92ed4ab5-5e14-4c84-9638-5414cd4fcccd')\"\n",
              "              title=\"Convert this dataframe to an interactive table.\"\n",
              "              style=\"display:none;\">\n",
              "        \n",
              "  <svg xmlns=\"http://www.w3.org/2000/svg\" height=\"24px\"viewBox=\"0 0 24 24\"\n",
              "       width=\"24px\">\n",
              "    <path d=\"M0 0h24v24H0V0z\" fill=\"none\"/>\n",
              "    <path d=\"M18.56 5.44l.94 2.06.94-2.06 2.06-.94-2.06-.94-.94-2.06-.94 2.06-2.06.94zm-11 1L8.5 8.5l.94-2.06 2.06-.94-2.06-.94L8.5 2.5l-.94 2.06-2.06.94zm10 10l.94 2.06.94-2.06 2.06-.94-2.06-.94-.94-2.06-.94 2.06-2.06.94z\"/><path d=\"M17.41 7.96l-1.37-1.37c-.4-.4-.92-.59-1.43-.59-.52 0-1.04.2-1.43.59L10.3 9.45l-7.72 7.72c-.78.78-.78 2.05 0 2.83L4 21.41c.39.39.9.59 1.41.59.51 0 1.02-.2 1.41-.59l7.78-7.78 2.81-2.81c.8-.78.8-2.07 0-2.86zM5.41 20L4 18.59l7.72-7.72 1.47 1.35L5.41 20z\"/>\n",
              "  </svg>\n",
              "      </button>\n",
              "      \n",
              "  <style>\n",
              "    .colab-df-container {\n",
              "      display:flex;\n",
              "      flex-wrap:wrap;\n",
              "      gap: 12px;\n",
              "    }\n",
              "\n",
              "    .colab-df-convert {\n",
              "      background-color: #E8F0FE;\n",
              "      border: none;\n",
              "      border-radius: 50%;\n",
              "      cursor: pointer;\n",
              "      display: none;\n",
              "      fill: #1967D2;\n",
              "      height: 32px;\n",
              "      padding: 0 0 0 0;\n",
              "      width: 32px;\n",
              "    }\n",
              "\n",
              "    .colab-df-convert:hover {\n",
              "      background-color: #E2EBFA;\n",
              "      box-shadow: 0px 1px 2px rgba(60, 64, 67, 0.3), 0px 1px 3px 1px rgba(60, 64, 67, 0.15);\n",
              "      fill: #174EA6;\n",
              "    }\n",
              "\n",
              "    [theme=dark] .colab-df-convert {\n",
              "      background-color: #3B4455;\n",
              "      fill: #D2E3FC;\n",
              "    }\n",
              "\n",
              "    [theme=dark] .colab-df-convert:hover {\n",
              "      background-color: #434B5C;\n",
              "      box-shadow: 0px 1px 3px 1px rgba(0, 0, 0, 0.15);\n",
              "      filter: drop-shadow(0px 1px 2px rgba(0, 0, 0, 0.3));\n",
              "      fill: #FFFFFF;\n",
              "    }\n",
              "  </style>\n",
              "\n",
              "      <script>\n",
              "        const buttonEl =\n",
              "          document.querySelector('#df-92ed4ab5-5e14-4c84-9638-5414cd4fcccd button.colab-df-convert');\n",
              "        buttonEl.style.display =\n",
              "          google.colab.kernel.accessAllowed ? 'block' : 'none';\n",
              "\n",
              "        async function convertToInteractive(key) {\n",
              "          const element = document.querySelector('#df-92ed4ab5-5e14-4c84-9638-5414cd4fcccd');\n",
              "          const dataTable =\n",
              "            await google.colab.kernel.invokeFunction('convertToInteractive',\n",
              "                                                     [key], {});\n",
              "          if (!dataTable) return;\n",
              "\n",
              "          const docLinkHtml = 'Like what you see? Visit the ' +\n",
              "            '<a target=\"_blank\" href=https://colab.research.google.com/notebooks/data_table.ipynb>data table notebook</a>'\n",
              "            + ' to learn more about interactive tables.';\n",
              "          element.innerHTML = '';\n",
              "          dataTable['output_type'] = 'display_data';\n",
              "          await google.colab.output.renderOutput(dataTable, element);\n",
              "          const docLink = document.createElement('div');\n",
              "          docLink.innerHTML = docLinkHtml;\n",
              "          element.appendChild(docLink);\n",
              "        }\n",
              "      </script>\n",
              "    </div>\n",
              "  </div>\n",
              "  "
            ]
          },
          "metadata": {},
          "execution_count": 65
        }
      ]
    },
    {
      "cell_type": "markdown",
      "source": [
        "##Teste de Normalidade"
      ],
      "metadata": {
        "id": "9wJhbvL-sY-E"
      }
    },
    {
      "cell_type": "code",
      "source": [
        "# Iremos verificar se qual o melhor modelo para esse dataset\n",
        "alpha = 0.05 # confiabilidade do teste em 95%\n",
        "from scipy.stats import shapiro\n",
        "shapiro(resultados_arvore), shapiro(resultados_random_forest), shapiro(resultados_knn), shapiro(resultados_logistica), shapiro(resultados_svm), shapiro(resultados_rede_neural)"
      ],
      "metadata": {
        "colab": {
          "base_uri": "https://localhost:8080/"
        },
        "id": "rLF3qkQjscK9",
        "outputId": "65a19ce3-45d2-4e26-82ae-df04bebe96ec"
      },
      "execution_count": null,
      "outputs": [
        {
          "output_type": "execute_result",
          "data": {
            "text/plain": [
              "(ShapiroResult(statistic=0.9759265184402466, pvalue=0.7100167870521545),\n",
              " ShapiroResult(statistic=0.9518142342567444, pvalue=0.18903307616710663),\n",
              " ShapiroResult(statistic=0.9660708904266357, pvalue=0.437965989112854),\n",
              " ShapiroResult(statistic=0.8811215162277222, pvalue=0.0029917070642113686),\n",
              " ShapiroResult(statistic=0.9658401012420654, pvalue=0.43244701623916626),\n",
              " ShapiroResult(statistic=0.9266933798789978, pvalue=0.04014108330011368))"
            ]
          },
          "metadata": {},
          "execution_count": 66
        }
      ]
    },
    {
      "cell_type": "markdown",
      "source": [
        "## Teste de hipotese com ANOVA e Tukey\n"
      ],
      "metadata": {
        "id": "xEJMJTIkFeno"
      }
    },
    {
      "cell_type": "code",
      "source": [
        "from scipy.stats import f_oneway\n",
        "_,p = f_oneway(resultados_arvore,resultados_random_forest,resultados_knn,resultados_logistica,resultados_svm,resultados_rede_neural)\n",
        "p"
      ],
      "metadata": {
        "colab": {
          "base_uri": "https://localhost:8080/"
        },
        "id": "vCZi4khhs0CU",
        "outputId": "35ff1325-8c8c-464d-ef98-ec0aac31392e"
      },
      "execution_count": null,
      "outputs": [
        {
          "output_type": "execute_result",
          "data": {
            "text/plain": [
              "7.306778836881126e-76"
            ]
          },
          "metadata": {},
          "execution_count": 67
        }
      ]
    },
    {
      "cell_type": "code",
      "source": [
        "alpha = 0.05\n",
        "if p <= alpha:\n",
        "  print('Hípotese nula rejeitada. Dados são diferentes')\n",
        "else:\n",
        "  print('Hipotese alternativa rejeitada. Resultados são iguais')"
      ],
      "metadata": {
        "colab": {
          "base_uri": "https://localhost:8080/"
        },
        "id": "T0jrPXk2s9Fp",
        "outputId": "38019d82-5ea0-4c1e-883d-6a645274e15d"
      },
      "execution_count": null,
      "outputs": [
        {
          "output_type": "stream",
          "name": "stdout",
          "text": [
            "Hípotese nula rejeitada. Dados são diferentes\n"
          ]
        }
      ]
    },
    {
      "cell_type": "code",
      "source": [
        "resultados_algoritmos = {'accuracy': np.concatenate([resultados_arvore, resultados_random_forest, resultados_knn, resultados_logistica, resultados_svm, resultados_rede_neural]),\n",
        "                         'algoritmo': ['arvore','arvore','arvore','arvore','arvore','arvore','arvore','arvore','arvore','arvore','arvore','arvore','arvore','arvore','arvore','arvore','arvore','arvore','arvore','arvore','arvore','arvore','arvore','arvore','arvore','arvore','arvore','arvore','arvore','arvore', \n",
        "                          'random_forest','random_forest','random_forest','random_forest','random_forest','random_forest','random_forest','random_forest','random_forest','random_forest','random_forest','random_forest','random_forest','random_forest','random_forest','random_forest','random_forest','random_forest','random_forest','random_forest','random_forest','random_forest','random_forest','random_forest','random_forest','random_forest','random_forest','random_forest','random_forest','random_forest', \n",
        "                          'knn','knn','knn','knn','knn','knn','knn','knn','knn','knn','knn','knn','knn','knn','knn','knn','knn','knn','knn','knn','knn','knn','knn','knn','knn','knn','knn','knn','knn','knn', \n",
        "                          'logistica','logistica','logistica','logistica','logistica','logistica','logistica','logistica','logistica','logistica','logistica','logistica','logistica','logistica','logistica','logistica','logistica','logistica','logistica','logistica','logistica','logistica','logistica','logistica','logistica','logistica','logistica','logistica','logistica','logistica',\n",
        "                          'svm','svm','svm','svm','svm','svm','svm','svm','svm','svm','svm','svm','svm','svm','svm','svm','svm','svm','svm','svm','svm','svm','svm','svm','svm','svm','svm','svm','svm','svm',\n",
        "                          'rede_neural','rede_neural','rede_neural','rede_neural','rede_neural','rede_neural','rede_neural','rede_neural','rede_neural','rede_neural','rede_neural','rede_neural','rede_neural','rede_neural','rede_neural','rede_neural','rede_neural','rede_neural','rede_neural','rede_neural','rede_neural','rede_neural','rede_neural','rede_neural','rede_neural','rede_neural','rede_neural','rede_neural','rede_neural','rede_neural']}\n",
        "resultados_df = pd.DataFrame(resultados_algoritmos)\n",
        "resultados_df"
      ],
      "metadata": {
        "colab": {
          "base_uri": "https://localhost:8080/"
        },
        "id": "YciYnMUutAna",
        "outputId": "ea6a55cf-d5c7-4da2-b8d2-c45c01fc5317"
      },
      "execution_count": null,
      "outputs": [
        {
          "output_type": "execute_result",
          "data": {
            "text/plain": [
              "     accuracy    algoritmo\n",
              "0    0.838784       arvore\n",
              "1    0.837673       arvore\n",
              "2    0.839835       arvore\n",
              "3    0.846357       arvore\n",
              "4    0.847575       arvore\n",
              "..        ...          ...\n",
              "175  0.860583  rede_neural\n",
              "176  0.863796  rede_neural\n",
              "177  0.858385  rede_neural\n",
              "178  0.862817  rede_neural\n",
              "179  0.861658  rede_neural\n",
              "\n",
              "[180 rows x 2 columns]"
            ],
            "text/html": [
              "\n",
              "  <div id=\"df-dec49fd5-cdb3-4892-91d8-181e1955aa4c\">\n",
              "    <div class=\"colab-df-container\">\n",
              "      <div>\n",
              "<style scoped>\n",
              "    .dataframe tbody tr th:only-of-type {\n",
              "        vertical-align: middle;\n",
              "    }\n",
              "\n",
              "    .dataframe tbody tr th {\n",
              "        vertical-align: top;\n",
              "    }\n",
              "\n",
              "    .dataframe thead th {\n",
              "        text-align: right;\n",
              "    }\n",
              "</style>\n",
              "<table border=\"1\" class=\"dataframe\">\n",
              "  <thead>\n",
              "    <tr style=\"text-align: right;\">\n",
              "      <th></th>\n",
              "      <th>accuracy</th>\n",
              "      <th>algoritmo</th>\n",
              "    </tr>\n",
              "  </thead>\n",
              "  <tbody>\n",
              "    <tr>\n",
              "      <th>0</th>\n",
              "      <td>0.838784</td>\n",
              "      <td>arvore</td>\n",
              "    </tr>\n",
              "    <tr>\n",
              "      <th>1</th>\n",
              "      <td>0.837673</td>\n",
              "      <td>arvore</td>\n",
              "    </tr>\n",
              "    <tr>\n",
              "      <th>2</th>\n",
              "      <td>0.839835</td>\n",
              "      <td>arvore</td>\n",
              "    </tr>\n",
              "    <tr>\n",
              "      <th>3</th>\n",
              "      <td>0.846357</td>\n",
              "      <td>arvore</td>\n",
              "    </tr>\n",
              "    <tr>\n",
              "      <th>4</th>\n",
              "      <td>0.847575</td>\n",
              "      <td>arvore</td>\n",
              "    </tr>\n",
              "    <tr>\n",
              "      <th>...</th>\n",
              "      <td>...</td>\n",
              "      <td>...</td>\n",
              "    </tr>\n",
              "    <tr>\n",
              "      <th>175</th>\n",
              "      <td>0.860583</td>\n",
              "      <td>rede_neural</td>\n",
              "    </tr>\n",
              "    <tr>\n",
              "      <th>176</th>\n",
              "      <td>0.863796</td>\n",
              "      <td>rede_neural</td>\n",
              "    </tr>\n",
              "    <tr>\n",
              "      <th>177</th>\n",
              "      <td>0.858385</td>\n",
              "      <td>rede_neural</td>\n",
              "    </tr>\n",
              "    <tr>\n",
              "      <th>178</th>\n",
              "      <td>0.862817</td>\n",
              "      <td>rede_neural</td>\n",
              "    </tr>\n",
              "    <tr>\n",
              "      <th>179</th>\n",
              "      <td>0.861658</td>\n",
              "      <td>rede_neural</td>\n",
              "    </tr>\n",
              "  </tbody>\n",
              "</table>\n",
              "<p>180 rows × 2 columns</p>\n",
              "</div>\n",
              "      <button class=\"colab-df-convert\" onclick=\"convertToInteractive('df-dec49fd5-cdb3-4892-91d8-181e1955aa4c')\"\n",
              "              title=\"Convert this dataframe to an interactive table.\"\n",
              "              style=\"display:none;\">\n",
              "        \n",
              "  <svg xmlns=\"http://www.w3.org/2000/svg\" height=\"24px\"viewBox=\"0 0 24 24\"\n",
              "       width=\"24px\">\n",
              "    <path d=\"M0 0h24v24H0V0z\" fill=\"none\"/>\n",
              "    <path d=\"M18.56 5.44l.94 2.06.94-2.06 2.06-.94-2.06-.94-.94-2.06-.94 2.06-2.06.94zm-11 1L8.5 8.5l.94-2.06 2.06-.94-2.06-.94L8.5 2.5l-.94 2.06-2.06.94zm10 10l.94 2.06.94-2.06 2.06-.94-2.06-.94-.94-2.06-.94 2.06-2.06.94z\"/><path d=\"M17.41 7.96l-1.37-1.37c-.4-.4-.92-.59-1.43-.59-.52 0-1.04.2-1.43.59L10.3 9.45l-7.72 7.72c-.78.78-.78 2.05 0 2.83L4 21.41c.39.39.9.59 1.41.59.51 0 1.02-.2 1.41-.59l7.78-7.78 2.81-2.81c.8-.78.8-2.07 0-2.86zM5.41 20L4 18.59l7.72-7.72 1.47 1.35L5.41 20z\"/>\n",
              "  </svg>\n",
              "      </button>\n",
              "      \n",
              "  <style>\n",
              "    .colab-df-container {\n",
              "      display:flex;\n",
              "      flex-wrap:wrap;\n",
              "      gap: 12px;\n",
              "    }\n",
              "\n",
              "    .colab-df-convert {\n",
              "      background-color: #E8F0FE;\n",
              "      border: none;\n",
              "      border-radius: 50%;\n",
              "      cursor: pointer;\n",
              "      display: none;\n",
              "      fill: #1967D2;\n",
              "      height: 32px;\n",
              "      padding: 0 0 0 0;\n",
              "      width: 32px;\n",
              "    }\n",
              "\n",
              "    .colab-df-convert:hover {\n",
              "      background-color: #E2EBFA;\n",
              "      box-shadow: 0px 1px 2px rgba(60, 64, 67, 0.3), 0px 1px 3px 1px rgba(60, 64, 67, 0.15);\n",
              "      fill: #174EA6;\n",
              "    }\n",
              "\n",
              "    [theme=dark] .colab-df-convert {\n",
              "      background-color: #3B4455;\n",
              "      fill: #D2E3FC;\n",
              "    }\n",
              "\n",
              "    [theme=dark] .colab-df-convert:hover {\n",
              "      background-color: #434B5C;\n",
              "      box-shadow: 0px 1px 3px 1px rgba(0, 0, 0, 0.15);\n",
              "      filter: drop-shadow(0px 1px 2px rgba(0, 0, 0, 0.3));\n",
              "      fill: #FFFFFF;\n",
              "    }\n",
              "  </style>\n",
              "\n",
              "      <script>\n",
              "        const buttonEl =\n",
              "          document.querySelector('#df-dec49fd5-cdb3-4892-91d8-181e1955aa4c button.colab-df-convert');\n",
              "        buttonEl.style.display =\n",
              "          google.colab.kernel.accessAllowed ? 'block' : 'none';\n",
              "\n",
              "        async function convertToInteractive(key) {\n",
              "          const element = document.querySelector('#df-dec49fd5-cdb3-4892-91d8-181e1955aa4c');\n",
              "          const dataTable =\n",
              "            await google.colab.kernel.invokeFunction('convertToInteractive',\n",
              "                                                     [key], {});\n",
              "          if (!dataTable) return;\n",
              "\n",
              "          const docLinkHtml = 'Like what you see? Visit the ' +\n",
              "            '<a target=\"_blank\" href=https://colab.research.google.com/notebooks/data_table.ipynb>data table notebook</a>'\n",
              "            + ' to learn more about interactive tables.';\n",
              "          element.innerHTML = '';\n",
              "          dataTable['output_type'] = 'display_data';\n",
              "          await google.colab.output.renderOutput(dataTable, element);\n",
              "          const docLink = document.createElement('div');\n",
              "          docLink.innerHTML = docLinkHtml;\n",
              "          element.appendChild(docLink);\n",
              "        }\n",
              "      </script>\n",
              "    </div>\n",
              "  </div>\n",
              "  "
            ]
          },
          "metadata": {},
          "execution_count": 69
        }
      ]
    },
    {
      "cell_type": "code",
      "source": [
        "from statsmodels.stats.multicomp import MultiComparison\n",
        "compara = MultiComparison(resultados_df['accuracy'],resultados_df['algoritmo'])\n",
        "teste_estatistico = compara.tukeyhsd()\n",
        "print(teste_estatistico)"
      ],
      "metadata": {
        "colab": {
          "base_uri": "https://localhost:8080/"
        },
        "id": "kFiWAkzatCs8",
        "outputId": "0bbfd75e-8fe8-45fa-a182-1ed3feb4d3bd"
      },
      "execution_count": null,
      "outputs": [
        {
          "output_type": "stream",
          "name": "stdout",
          "text": [
            "       Multiple Comparison of Means - Tukey HSD, FWER=0.05        \n",
            "==================================================================\n",
            "    group1        group2    meandiff p-adj   lower   upper  reject\n",
            "------------------------------------------------------------------\n",
            "       arvore           knn   0.0284  0.001  0.0254  0.0313   True\n",
            "       arvore     logistica   0.0205  0.001  0.0175  0.0234   True\n",
            "       arvore random_forest   0.0321  0.001  0.0291   0.035   True\n",
            "       arvore   rede_neural   0.0212  0.001  0.0183  0.0242   True\n",
            "       arvore           svm   0.0237  0.001  0.0208  0.0267   True\n",
            "          knn     logistica  -0.0079  0.001 -0.0108 -0.0049   True\n",
            "          knn random_forest   0.0037 0.0052  0.0007  0.0067   True\n",
            "          knn   rede_neural  -0.0071  0.001 -0.0101 -0.0042   True\n",
            "          knn           svm  -0.0046  0.001 -0.0076 -0.0017   True\n",
            "    logistica random_forest   0.0116  0.001  0.0086  0.0145   True\n",
            "    logistica   rede_neural   0.0008    0.9 -0.0022  0.0037  False\n",
            "    logistica           svm   0.0033 0.0203  0.0003  0.0062   True\n",
            "random_forest   rede_neural  -0.0108  0.001 -0.0138 -0.0079   True\n",
            "random_forest           svm  -0.0083  0.001 -0.0113 -0.0054   True\n",
            "  rede_neural           svm   0.0025 0.1456 -0.0004  0.0055  False\n",
            "------------------------------------------------------------------\n"
          ]
        }
      ]
    },
    {
      "cell_type": "code",
      "source": [
        "teste_estatistico.plot_simultaneous(); #Random Florest é superior a todos"
      ],
      "metadata": {
        "colab": {
          "base_uri": "https://localhost:8080/"
        },
        "id": "kB8yM5qLtP_C",
        "outputId": "d04d8bb1-9814-4ea1-8dbc-37414fa7f9c7"
      },
      "execution_count": null,
      "outputs": [
        {
          "output_type": "display_data",
          "data": {
            "text/plain": [
              "<Figure size 720x432 with 1 Axes>"
            ],
            "image/png": "[encoded data removed]"
          },
          "metadata": {
            "needs_background": "light"
          }
        }
      ]
    },
    {
      "cell_type": "markdown",
      "source": [
        "# Salvando e importando o modelo treinado"
      ],
      "metadata": {
        "id": "mlORas7Tt7Pl"
      }
    },
    {
      "cell_type": "code",
      "source": [
        "# Modelos treinados com o tuning dos parametros\n",
        "from sklearn.ensemble import RandomForestClassifier\n",
        "from sklearn.svm import SVC\n",
        "from sklearn.neighbors import KNeighborsClassifier\n",
        "\n",
        "classificador_floresta =  RandomForestClassifier(criterion = 'gini', min_samples_leaf = 5, min_samples_split=5, n_estimators = 100) \n",
        "classificador_floresta .fit(x_dataset,y_dataset)\n",
        "classificador_svm =SVC(kernel = 'rbf', C = 2.0,tol = 0.0001)\n",
        "classificador_svm.fit(x_dataset,y_dataset)\n",
        "classificador_knn = KNeighborsClassifier(n_neighbors= 20, p = 1)\n",
        "classificador_knn.fit(x_dataset,y_dataset)"
      ],
      "metadata": {
        "colab": {
          "base_uri": "https://localhost:8080/"
        },
        "id": "uUsJsIu7uAqJ",
        "outputId": "fa1b56ee-f8b0-4c98-b08f-3f8e9ed4c033"
      },
      "execution_count": null,
      "outputs": [
        {
          "output_type": "execute_result",
          "data": {
            "text/plain": [
              "KNeighborsClassifier(n_neighbors=20, p=1)"
            ]
          },
          "metadata": {},
          "execution_count": 72
        }
      ]
    },
    {
      "cell_type": "code",
      "source": [
        "# Salvando o modelo\n",
        "import pickle\n",
        "pickle.dump(classificador_floresta , open('random_florest.sav', 'wb'))\n",
        "pickle.dump(classificador_knn, open('knn.sav', 'wb'))\n",
        "pickle.dump(classificador_svm, open('svm_finalizado.sav', 'wb'))"
      ],
      "metadata": {
        "id": "hNW-ntMIvNzw"
      },
      "execution_count": null,
      "outputs": []
    },
    {
      "cell_type": "code",
      "source": [
        "#Lendo os arquivos dos modelos\n",
        "random_florest = pickle.load(open('random_florest.sav', 'rb'))\n",
        "knn = pickle.load(open('knn.sav', 'rb'))\n",
        "svm = pickle.load(open('svm_finalizado.sav', 'rb'))"
      ],
      "metadata": {
        "id": "Jy5nLHUqvjV0"
      },
      "execution_count": null,
      "outputs": []
    },
    {
      "cell_type": "code",
      "source": [
        "# Escolhendo amostra aleatória como teste\n",
        "novo_registro = x_dataset[1]\n",
        "print(novo_registro)\n",
        "novo_registro=novo_registro.reshape(1,-1)\n",
        "novo_registro"
      ],
      "metadata": {
        "colab": {
          "base_uri": "https://localhost:8080/"
        },
        "id": "xCVbOTvwvnpr",
        "outputId": "cafa1f58-ebe4-42d6-c943-dcaf894f88cf"
      },
      "execution_count": null,
      "outputs": [
        {
          "output_type": "stream",
          "name": "stdout",
          "text": [
            "[-0.51595242  0.51595242 -1.08413811 -0.48188667  1.87674385 -0.22967867\n",
            " -0.50747832  0.81427482 -0.49044933  0.8235563  -0.8235563  -0.27144836\n",
            "  0.99782372 -0.86905588 -1.85743145 -1.10227193  1.29157115 -0.55134134\n",
            "  1.85450652  0.10566353]\n"
          ]
        },
        {
          "output_type": "execute_result",
          "data": {
            "text/plain": [
              "array([[-0.51595242,  0.51595242, -1.08413811, -0.48188667,  1.87674385,\n",
              "        -0.22967867, -0.50747832,  0.81427482, -0.49044933,  0.8235563 ,\n",
              "        -0.8235563 , -0.27144836,  0.99782372, -0.86905588, -1.85743145,\n",
              "        -1.10227193,  1.29157115, -0.55134134,  1.85450652,  0.10566353]])"
            ]
          },
          "metadata": {},
          "execution_count": 86
        }
      ]
    },
    {
      "cell_type": "code",
      "source": [
        "y_dataset[1]"
      ],
      "metadata": {
        "colab": {
          "base_uri": "https://localhost:8080/"
        },
        "id": "JaGF_WfNxoTO",
        "outputId": "5a4c76b9-c066-447a-a162-c771fbe62c32"
      },
      "execution_count": null,
      "outputs": [
        {
          "output_type": "execute_result",
          "data": {
            "text/plain": [
              "0"
            ]
          },
          "metadata": {},
          "execution_count": 88
        }
      ]
    },
    {
      "cell_type": "code",
      "source": [
        "resp_random = random_florest.predict(novo_registro)\n",
        "resp_knn = knn.predict(novo_registro)\n",
        "resp_svm = svm.predict(novo_registro)\n",
        "print(resp_random[0],resp_knn[0],resp_svm[0])"
      ],
      "metadata": {
        "colab": {
          "base_uri": "https://localhost:8080/"
        },
        "id": "zmbf-eizwMOA",
        "outputId": "3faaaa77-2779-43b8-8406-9b5f31d3ac89"
      },
      "execution_count": null,
      "outputs": [
        {
          "output_type": "stream",
          "name": "stdout",
          "text": [
            "0 0 0\n"
          ]
        }
      ]
    },
    {
      "cell_type": "markdown",
      "source": [
        "# Combinação dos melhores modelos "
      ],
      "metadata": {
        "id": "_BtOEjvB6pId"
      }
    },
    {
      "cell_type": "code",
      "source": [
        "morte = 0\n",
        "vida= 0\n",
        "\n",
        "if resp_random[0] == 1:\n",
        "  morte += 1\n",
        "else:\n",
        "  vida += 1\n",
        "\n",
        "if resp_knn[0] == 1:\n",
        "  morte += 1\n",
        "else:\n",
        "  vida += 1\n",
        "\n",
        "if resp_svm[0] == 1:\n",
        "  morte += 1\n",
        "else:\n",
        "  vida += 1\n",
        "\n",
        "if vida > morte:\n",
        "  print('Normal')\n",
        "elif vida == morte:\n",
        "  print('Empate')\n",
        "else:\n",
        "  print('Insuficiencia Cardiaca')"
      ],
      "metadata": {
        "colab": {
          "base_uri": "https://localhost:8080/"
        },
        "id": "Kcr9vviJ6wnn",
        "outputId": "a0880f0e-9165-4bc7-d6d5-4becf3327c93"
      },
      "execution_count": null,
      "outputs": [
        {
          "output_type": "stream",
          "name": "stdout",
          "text": [
            "Normal\n"
          ]
        }
      ]
    }
  ]
}